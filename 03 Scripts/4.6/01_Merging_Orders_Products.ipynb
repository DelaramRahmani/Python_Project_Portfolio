{
 "cells": [
  {
   "cell_type": "markdown",
   "id": "1386fadb-c882-44c9-81b2-2f5c88bf6fae",
   "metadata": {},
   "source": [
    "# Step 1 - Merge DataFrames (df_ords and df_ords_prior)"
   ]
  },
  {
   "cell_type": "code",
   "execution_count": 2,
   "id": "bf3fab50-4831-44cb-a185-8a6188b5e50f",
   "metadata": {},
   "outputs": [],
   "source": [
    "import pandas as pd\n",
    "import os\n"
   ]
  },
  {
   "cell_type": "code",
   "execution_count": 4,
   "id": "75d119ef-6e02-4b3d-9138-257c70c9ba10",
   "metadata": {},
   "outputs": [],
   "source": [
    "# Define the path to your project folder\n",
    "project_path = '/Users/dela/Documents/15-01-2025 Instacart Basket Analysis'\n",
    "\n",
    "# Path to Prepared Data\n",
    "prepared_data_path = os.path.join(project_path, '02 Data', 'Prepared Data')\n"
   ]
  },
  {
   "cell_type": "code",
   "execution_count": 6,
   "id": "ebd83c2d-c043-43ed-9034-f036cfdf4fb0",
   "metadata": {},
   "outputs": [
    {
     "name": "stdout",
     "output_type": "stream",
     "text": [
      "   order_id  user_id  order_number  order_day_of_week  order_hour_of_day  \\\n",
      "0   2539329        1             1                  2                  8   \n",
      "1   2398795        1             2                  3                  7   \n",
      "2    473747        1             3                  3                 12   \n",
      "3   2254736        1             4                  4                  7   \n",
      "4    431534        1             5                  4                 15   \n",
      "\n",
      "   days_since_prior_order  \n",
      "0                     NaN  \n",
      "1                    15.0  \n",
      "2                    21.0  \n",
      "3                    29.0  \n",
      "4                    28.0  \n"
     ]
    }
   ],
   "source": [
    "# Load df_ords\n",
    "df_ords = pd.read_csv(os.path.join(prepared_data_path, 'orders_wrangled.csv'))\n",
    "\n",
    "# Check the first few rows to confirm it loaded correctly\n",
    "print(df_ords.head())\n"
   ]
  },
  {
   "cell_type": "markdown",
   "id": "0366559d-d4a1-49c7-bd4e-6253223a0c4d",
   "metadata": {},
   "source": [
    "## Import the New Dataset (orders_products_prior.csv)"
   ]
  },
  {
   "cell_type": "code",
   "execution_count": 10,
   "id": "770c7ab2-2bf1-4406-9fe9-ee7e2f786bc4",
   "metadata": {},
   "outputs": [
    {
     "name": "stdout",
     "output_type": "stream",
     "text": [
      "   order_id  product_id  add_to_cart_order  reordered\n",
      "0         2       33120                  1          1\n",
      "1         2       28985                  2          1\n",
      "2         2        9327                  3          0\n",
      "3         2       45918                  4          1\n",
      "4         2       30035                  5          0\n",
      "(32434489, 4)\n"
     ]
    }
   ],
   "source": [
    "# Load orders_products_prior\n",
    "df_ords_prior = pd.read_csv(os.path.join(project_path, '02 Data', 'Original Data', 'orders_products_prior.csv'))\n",
    "\n",
    "# Preview the first few rows\n",
    "print(df_ords_prior.head())\n",
    "\n",
    "# Check the shape of the dataset\n",
    "print(df_ords_prior.shape)\n"
   ]
  },
  {
   "cell_type": "markdown",
   "id": "e8a83411-d65c-4fd7-ac5f-c5b1fa5723b4",
   "metadata": {},
   "source": [
    "## Import the Prepared Orders Data (df_ords)"
   ]
  },
  {
   "cell_type": "code",
   "execution_count": 12,
   "id": "1d33ebd3-ec5b-4e23-b446-2d913366383b",
   "metadata": {},
   "outputs": [
    {
     "name": "stdout",
     "output_type": "stream",
     "text": [
      "   order_id  user_id  order_number  order_day_of_week  order_hour_of_day  \\\n",
      "0   2539329        1             1                  2                  8   \n",
      "1   2398795        1             2                  3                  7   \n",
      "2    473747        1             3                  3                 12   \n",
      "3   2254736        1             4                  4                  7   \n",
      "4    431534        1             5                  4                 15   \n",
      "\n",
      "   days_since_prior_order  \n",
      "0                     NaN  \n",
      "1                    15.0  \n",
      "2                    21.0  \n",
      "3                    29.0  \n",
      "4                    28.0  \n",
      "(3421083, 6)\n"
     ]
    }
   ],
   "source": [
    "# Load prepared orders data\n",
    "df_ords = pd.read_csv(os.path.join(project_path, '02 Data', 'Prepared Data', 'orders_wrangled.csv'))\n",
    "\n",
    "# Preview the data\n",
    "print(df_ords.head())\n",
    "\n",
    "# Check the shape of the dataset\n",
    "print(df_ords.shape)\n"
   ]
  },
  {
   "cell_type": "markdown",
   "id": "e36bce9f-9dd2-4831-8da7-4f4db284716d",
   "metadata": {},
   "source": [
    "## Merge the Two DataFrames"
   ]
  },
  {
   "cell_type": "code",
   "execution_count": 14,
   "id": "7bda42bf-70dc-4047-8898-589bbaf9a90b",
   "metadata": {},
   "outputs": [
    {
     "name": "stdout",
     "output_type": "stream",
     "text": [
      "   order_id  user_id  order_number  order_day_of_week  order_hour_of_day  \\\n",
      "0   2539329        1             1                  2                  8   \n",
      "1   2539329        1             1                  2                  8   \n",
      "2   2539329        1             1                  2                  8   \n",
      "3   2539329        1             1                  2                  8   \n",
      "4   2539329        1             1                  2                  8   \n",
      "\n",
      "   days_since_prior_order  product_id  add_to_cart_order  reordered _merge  \n",
      "0                     NaN         196                  1          0   both  \n",
      "1                     NaN       14084                  2          0   both  \n",
      "2                     NaN       12427                  3          0   both  \n",
      "3                     NaN       26088                  4          0   both  \n",
      "4                     NaN       26405                  5          0   both  \n",
      "(32434489, 10)\n"
     ]
    }
   ],
   "source": [
    "# Merge df_ords and df_ords_prior\n",
    "df_merged_large = df_ords.merge(df_ords_prior, on='order_id', indicator=True)\n",
    "\n",
    "# Preview the merged data\n",
    "print(df_merged_large.head())\n",
    "\n",
    "# Check the shape of the merged DataFrame\n",
    "print(df_merged_large.shape)\n"
   ]
  },
  {
   "cell_type": "code",
   "execution_count": 15,
   "id": "3924a944-88f7-4d8a-85b1-8cbd25753553",
   "metadata": {},
   "outputs": [
    {
     "name": "stdout",
     "output_type": "stream",
     "text": [
      "_merge\n",
      "both          32434489\n",
      "left_only            0\n",
      "right_only           0\n",
      "Name: count, dtype: int64\n"
     ]
    }
   ],
   "source": [
    "# Analyze the merge flag\n",
    "print(df_merged_large['_merge'].value_counts())\n"
   ]
  },
  {
   "cell_type": "markdown",
   "id": "64f629d6-c785-4758-b5e5-ce0bb884b66e",
   "metadata": {},
   "source": [
    "## Double-Check with an Outer Join"
   ]
  },
  {
   "cell_type": "code",
   "execution_count": 18,
   "id": "802c3c80-77a6-4109-b376-826785adc786",
   "metadata": {},
   "outputs": [
    {
     "name": "stdout",
     "output_type": "stream",
     "text": [
      "_merge\n",
      "both          32434489\n",
      "left_only       206209\n",
      "right_only           0\n",
      "Name: count, dtype: int64\n"
     ]
    }
   ],
   "source": [
    "# Perform an outer join to double-check the merge\n",
    "df_merged_check = df_ords.merge(df_ords_prior, on='order_id', how='outer', indicator=True)\n",
    "\n",
    "# Check the merge flag for outer join\n",
    "print(df_merged_check['_merge'].value_counts())\n"
   ]
  },
  {
   "cell_type": "markdown",
   "id": "4c814e03-feb4-463c-b93d-b861b5087cfe",
   "metadata": {},
   "source": [
    "## Save the Merged DataFrame"
   ]
  },
  {
   "cell_type": "code",
   "execution_count": 20,
   "id": "3d1b84b4-2578-4425-ad77-30256549b036",
   "metadata": {},
   "outputs": [
    {
     "name": "stdout",
     "output_type": "stream",
     "text": [
      "Merged data exported successfully!\n"
     ]
    }
   ],
   "source": [
    "# Export the merged DataFrame to CSV\n",
    "df_merged_large.to_csv(os.path.join(project_path, '02 Data', 'Prepared Data', 'orders_products_combined.csv'), index=False)\n",
    "\n",
    "# Export the merged DataFrame to Pickle\n",
    "df_merged_large.to_pickle(os.path.join(project_path, '02 Data', 'Prepared Data', 'orders_products_combined.pkl'))\n",
    "\n",
    "print(\"Merged data exported successfully!\")\n"
   ]
  },
  {
   "cell_type": "markdown",
   "id": "acf9e1c6-9616-4467-a67b-b20e3dd4f4d9",
   "metadata": {},
   "source": [
    "# Step 2: Export the merged file in pickle format as “orders_products_combined.pkl”"
   ]
  },
  {
   "cell_type": "code",
   "execution_count": 22,
   "id": "ca3a9815-0504-465e-b4fa-d57015adc7e0",
   "metadata": {},
   "outputs": [
    {
     "name": "stdout",
     "output_type": "stream",
     "text": [
      "Pickle file saved successfully!\n"
     ]
    }
   ],
   "source": [
    "df_merged_large.to_pickle(os.path.join(prepared_data_path, 'orders_products_combined.pkl'))\n",
    "print(\"Pickle file saved successfully!\")\n"
   ]
  },
  {
   "cell_type": "code",
   "execution_count": null,
   "id": "bc6146bd-a400-4337-b69c-f35959eeb4f2",
   "metadata": {},
   "outputs": [],
   "source": []
  },
  {
   "cell_type": "code",
   "execution_count": null,
   "id": "62b56a3e-31fa-41de-8112-e0401ad51efc",
   "metadata": {},
   "outputs": [],
   "source": []
  }
 ],
 "metadata": {
  "kernelspec": {
   "display_name": "Python [conda env:base] *",
   "language": "python",
   "name": "conda-base-py"
  },
  "language_info": {
   "codemirror_mode": {
    "name": "ipython",
    "version": 3
   },
   "file_extension": ".py",
   "mimetype": "text/x-python",
   "name": "python",
   "nbconvert_exporter": "python",
   "pygments_lexer": "ipython3",
   "version": "3.12.7"
  }
 },
 "nbformat": 4,
 "nbformat_minor": 5
}
