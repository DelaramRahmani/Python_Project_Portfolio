{
 "cells": [
  {
   "cell_type": "markdown",
   "id": "da0d1de5-113c-4ec2-80ad-1897647c6319",
   "metadata": {},
   "source": [
    "# Step 3: Import the orders_products_combined DataFrame from the pickle file"
   ]
  },
  {
   "cell_type": "code",
   "execution_count": 1,
   "id": "46e4276d-d108-4087-b4c2-26e3f7089ea2",
   "metadata": {},
   "outputs": [
    {
     "name": "stdout",
     "output_type": "stream",
     "text": [
      "   order_id  user_id  order_number  order_day_of_week  order_hour_of_day  \\\n",
      "0   2539329        1             1                  2                  8   \n",
      "1   2539329        1             1                  2                  8   \n",
      "2   2539329        1             1                  2                  8   \n",
      "3   2539329        1             1                  2                  8   \n",
      "4   2539329        1             1                  2                  8   \n",
      "\n",
      "   days_since_prior_order  product_id  add_to_cart_order  reordered _merge  \n",
      "0                     NaN         196                  1          0   both  \n",
      "1                     NaN       14084                  2          0   both  \n",
      "2                     NaN       12427                  3          0   both  \n",
      "3                     NaN       26088                  4          0   both  \n",
      "4                     NaN       26405                  5          0   both  \n"
     ]
    }
   ],
   "source": [
    "# Import the necessary libraries\n",
    "import pandas as pd\n",
    "import os\n",
    "\n",
    "# Define the file path\n",
    "prepared_data_path = '/Users/dela/Documents/15-01-2025 Instacart Basket Analysis/02 Data/Prepared Data/'\n",
    "df_orders_products_combined = pd.read_pickle(os.path.join(prepared_data_path, 'orders_products_combined.pkl'))\n",
    "\n",
    "# Check the first few rows\n",
    "print(df_orders_products_combined.head())\n"
   ]
  },
  {
   "cell_type": "markdown",
   "id": "287247b4-b340-4698-b4cb-17e14bbb1101",
   "metadata": {},
   "source": [
    "# Step 4: Check the shape of the imported DataFrame"
   ]
  },
  {
   "cell_type": "code",
   "execution_count": 3,
   "id": "aa713ae8-163f-4111-9a04-83aa1ffc9948",
   "metadata": {},
   "outputs": [
    {
     "name": "stdout",
     "output_type": "stream",
     "text": [
      "(32434489, 10)\n"
     ]
    }
   ],
   "source": [
    "print(df_orders_products_combined.shape)\n",
    "\n",
    "#dimensions are matched the original merged DataFrame."
   ]
  },
  {
   "cell_type": "markdown",
   "id": "9dc5f111-b47b-40bc-9b1c-fa53101f8917",
   "metadata": {},
   "source": [
    "# Step 5: Combine the orders_products_combined DataFrame with products data set"
   ]
  },
  {
   "cell_type": "code",
   "execution_count": 7,
   "id": "bd3147e5-3e0f-4bda-8e65-1fcb1aa257af",
   "metadata": {},
   "outputs": [
    {
     "name": "stdout",
     "output_type": "stream",
     "text": [
      "   product_id                                       product_name  aisle_id  \\\n",
      "0           1                         Chocolate Sandwich Cookies        61   \n",
      "1           2                                   All-Seasons Salt       104   \n",
      "2           3               Robust Golden Unsweetened Oolong Tea        94   \n",
      "3           4  Smart Ones Classic Favorites Mini Rigatoni Wit...        38   \n",
      "4           5                          Green Chile Anytime Sauce         5   \n",
      "\n",
      "   department_id  prices  \n",
      "0             19     5.8  \n",
      "1             13     9.3  \n",
      "2              7     4.5  \n",
      "3              1    10.5  \n",
      "4             13     4.3  \n"
     ]
    }
   ],
   "source": [
    "#import the cleaned products DataFrame (df_prods)\n",
    "df_prods = pd.read_csv(os.path.join(prepared_data_path, 'products_checked.csv'))\n",
    "print(df_prods.head())\n"
   ]
  },
  {
   "cell_type": "code",
   "execution_count": 13,
   "id": "e07382f3-8d66-44fc-ab64-7d7ebe11f182",
   "metadata": {},
   "outputs": [
    {
     "name": "stdout",
     "output_type": "stream",
     "text": [
      "Index(['order_id', 'user_id', 'order_number', 'order_day_of_week',\n",
      "       'order_hour_of_day', 'days_since_prior_order', 'product_id',\n",
      "       'add_to_cart_order', 'reordered', '_merge'],\n",
      "      dtype='object')\n",
      "Index(['product_id', 'product_name', 'aisle_id', 'department_id', 'prices'], dtype='object')\n"
     ]
    }
   ],
   "source": [
    "# Check Column Names in Both DataFrames\n",
    "print(df_orders_products_combined.columns)\n",
    "print(df_prods.columns)\n"
   ]
  },
  {
   "cell_type": "code",
   "execution_count": 15,
   "id": "1918ce2c-353c-4c67-9fd4-305567ade10e",
   "metadata": {},
   "outputs": [],
   "source": [
    "#Data Type Mismatch\n",
    "\n",
    "df_orders_products_combined['product_id'] = df_orders_products_combined['product_id'].astype(str)\n",
    "df_prods['product_id'] = df_prods['product_id'].astype(str)"
   ]
  },
  {
   "cell_type": "code",
   "execution_count": 17,
   "id": "4b5babb4-a1ee-4e68-a374-7305bed8a944",
   "metadata": {},
   "outputs": [
    {
     "name": "stdout",
     "output_type": "stream",
     "text": [
      "0\n",
      "0\n"
     ]
    }
   ],
   "source": [
    "#Missing or NaN Values check\n",
    "print(df_orders_products_combined['product_id'].isnull().sum())\n",
    "print(df_prods['product_id'].isnull().sum())\n"
   ]
  },
  {
   "cell_type": "code",
   "execution_count": 21,
   "id": "09d96aba-9166-47b0-ba24-b55e903a9d87",
   "metadata": {},
   "outputs": [],
   "source": [
    "df_orders_products_combined['product_id'] = df_orders_products_combined['product_id'].astype(str)\n",
    "df_prods['product_id'] = df_prods['product_id'].astype(str)\n"
   ]
  },
  {
   "cell_type": "code",
   "execution_count": 23,
   "id": "8d29823e-ab11-45a3-8a43-852c305f5c03",
   "metadata": {},
   "outputs": [
    {
     "name": "stdout",
     "output_type": "stream",
     "text": [
      "Missing values in df_orders_products_combined: 0\n",
      "Missing values in df_prods: 0\n"
     ]
    }
   ],
   "source": [
    "print(\"Missing values in df_orders_products_combined:\", df_orders_products_combined['product_id'].isnull().sum())\n",
    "print(\"Missing values in df_prods:\", df_prods['product_id'].isnull().sum())\n"
   ]
  },
  {
   "cell_type": "code",
   "execution_count": 25,
   "id": "c903453d-42cd-474e-90b5-9ded86d9033a",
   "metadata": {},
   "outputs": [
    {
     "name": "stdout",
     "output_type": "stream",
     "text": [
      "Number of common product IDs: 49659\n"
     ]
    }
   ],
   "source": [
    "#column overlap check\n",
    "common_ids = set(df_orders_products_combined['product_id']).intersection(set(df_prods['product_id']))\n",
    "print(f\"Number of common product IDs: {len(common_ids)}\")\n"
   ]
  },
  {
   "cell_type": "code",
   "execution_count": 27,
   "id": "8e366776-4c48-40ab-973c-941a73c88d63",
   "metadata": {},
   "outputs": [],
   "source": [
    "df_orders_products_combined['product_id'] = df_orders_products_combined['product_id'].astype(str)\n",
    "df_prods['product_id'] = df_prods['product_id'].astype(str)\n"
   ]
  },
  {
   "cell_type": "code",
   "execution_count": 29,
   "id": "e2e5f8fb-eeb1-4883-add3-8a2e2ffab8a0",
   "metadata": {},
   "outputs": [
    {
     "ename": "ValueError",
     "evalue": "Cannot use name of an existing column for indicator column",
     "output_type": "error",
     "traceback": [
      "\u001b[0;31m---------------------------------------------------------------------------\u001b[0m",
      "\u001b[0;31mValueError\u001b[0m                                Traceback (most recent call last)",
      "Cell \u001b[0;32mIn[29], line 1\u001b[0m\n\u001b[0;32m----> 1\u001b[0m df_final_merge \u001b[38;5;241m=\u001b[39m df_orders_products_combined\u001b[38;5;241m.\u001b[39mmerge(\n\u001b[1;32m      2\u001b[0m     df_prods, on\u001b[38;5;241m=\u001b[39m\u001b[38;5;124m'\u001b[39m\u001b[38;5;124mproduct_id\u001b[39m\u001b[38;5;124m'\u001b[39m, how\u001b[38;5;241m=\u001b[39m\u001b[38;5;124m'\u001b[39m\u001b[38;5;124minner\u001b[39m\u001b[38;5;124m'\u001b[39m, indicator\u001b[38;5;241m=\u001b[39m\u001b[38;5;28;01mTrue\u001b[39;00m\n\u001b[1;32m      3\u001b[0m )\n",
      "File \u001b[0;32m/opt/anaconda3/lib/python3.12/site-packages/pandas/core/frame.py:10832\u001b[0m, in \u001b[0;36mDataFrame.merge\u001b[0;34m(self, right, how, on, left_on, right_on, left_index, right_index, sort, suffixes, copy, indicator, validate)\u001b[0m\n\u001b[1;32m  10813\u001b[0m \u001b[38;5;129m@Substitution\u001b[39m(\u001b[38;5;124m\"\u001b[39m\u001b[38;5;124m\"\u001b[39m)\n\u001b[1;32m  10814\u001b[0m \u001b[38;5;129m@Appender\u001b[39m(_merge_doc, indents\u001b[38;5;241m=\u001b[39m\u001b[38;5;241m2\u001b[39m)\n\u001b[1;32m  10815\u001b[0m \u001b[38;5;28;01mdef\u001b[39;00m \u001b[38;5;21mmerge\u001b[39m(\n\u001b[0;32m   (...)\u001b[0m\n\u001b[1;32m  10828\u001b[0m     validate: MergeValidate \u001b[38;5;241m|\u001b[39m \u001b[38;5;28;01mNone\u001b[39;00m \u001b[38;5;241m=\u001b[39m \u001b[38;5;28;01mNone\u001b[39;00m,\n\u001b[1;32m  10829\u001b[0m ) \u001b[38;5;241m-\u001b[39m\u001b[38;5;241m>\u001b[39m DataFrame:\n\u001b[1;32m  10830\u001b[0m     \u001b[38;5;28;01mfrom\u001b[39;00m \u001b[38;5;21;01mpandas\u001b[39;00m\u001b[38;5;21;01m.\u001b[39;00m\u001b[38;5;21;01mcore\u001b[39;00m\u001b[38;5;21;01m.\u001b[39;00m\u001b[38;5;21;01mreshape\u001b[39;00m\u001b[38;5;21;01m.\u001b[39;00m\u001b[38;5;21;01mmerge\u001b[39;00m \u001b[38;5;28;01mimport\u001b[39;00m merge\n\u001b[0;32m> 10832\u001b[0m     \u001b[38;5;28;01mreturn\u001b[39;00m merge(\n\u001b[1;32m  10833\u001b[0m         \u001b[38;5;28mself\u001b[39m,\n\u001b[1;32m  10834\u001b[0m         right,\n\u001b[1;32m  10835\u001b[0m         how\u001b[38;5;241m=\u001b[39mhow,\n\u001b[1;32m  10836\u001b[0m         on\u001b[38;5;241m=\u001b[39mon,\n\u001b[1;32m  10837\u001b[0m         left_on\u001b[38;5;241m=\u001b[39mleft_on,\n\u001b[1;32m  10838\u001b[0m         right_on\u001b[38;5;241m=\u001b[39mright_on,\n\u001b[1;32m  10839\u001b[0m         left_index\u001b[38;5;241m=\u001b[39mleft_index,\n\u001b[1;32m  10840\u001b[0m         right_index\u001b[38;5;241m=\u001b[39mright_index,\n\u001b[1;32m  10841\u001b[0m         sort\u001b[38;5;241m=\u001b[39msort,\n\u001b[1;32m  10842\u001b[0m         suffixes\u001b[38;5;241m=\u001b[39msuffixes,\n\u001b[1;32m  10843\u001b[0m         copy\u001b[38;5;241m=\u001b[39mcopy,\n\u001b[1;32m  10844\u001b[0m         indicator\u001b[38;5;241m=\u001b[39mindicator,\n\u001b[1;32m  10845\u001b[0m         validate\u001b[38;5;241m=\u001b[39mvalidate,\n\u001b[1;32m  10846\u001b[0m     )\n",
      "File \u001b[0;32m/opt/anaconda3/lib/python3.12/site-packages/pandas/core/reshape/merge.py:184\u001b[0m, in \u001b[0;36mmerge\u001b[0;34m(left, right, how, on, left_on, right_on, left_index, right_index, sort, suffixes, copy, indicator, validate)\u001b[0m\n\u001b[1;32m    169\u001b[0m \u001b[38;5;28;01melse\u001b[39;00m:\n\u001b[1;32m    170\u001b[0m     op \u001b[38;5;241m=\u001b[39m _MergeOperation(\n\u001b[1;32m    171\u001b[0m         left_df,\n\u001b[1;32m    172\u001b[0m         right_df,\n\u001b[0;32m   (...)\u001b[0m\n\u001b[1;32m    182\u001b[0m         validate\u001b[38;5;241m=\u001b[39mvalidate,\n\u001b[1;32m    183\u001b[0m     )\n\u001b[0;32m--> 184\u001b[0m     \u001b[38;5;28;01mreturn\u001b[39;00m op\u001b[38;5;241m.\u001b[39mget_result(copy\u001b[38;5;241m=\u001b[39mcopy)\n",
      "File \u001b[0;32m/opt/anaconda3/lib/python3.12/site-packages/pandas/core/reshape/merge.py:884\u001b[0m, in \u001b[0;36m_MergeOperation.get_result\u001b[0;34m(self, copy)\u001b[0m\n\u001b[1;32m    882\u001b[0m \u001b[38;5;28;01mdef\u001b[39;00m \u001b[38;5;21mget_result\u001b[39m(\u001b[38;5;28mself\u001b[39m, copy: \u001b[38;5;28mbool\u001b[39m \u001b[38;5;241m|\u001b[39m \u001b[38;5;28;01mNone\u001b[39;00m \u001b[38;5;241m=\u001b[39m \u001b[38;5;28;01mTrue\u001b[39;00m) \u001b[38;5;241m-\u001b[39m\u001b[38;5;241m>\u001b[39m DataFrame:\n\u001b[1;32m    883\u001b[0m     \u001b[38;5;28;01mif\u001b[39;00m \u001b[38;5;28mself\u001b[39m\u001b[38;5;241m.\u001b[39mindicator:\n\u001b[0;32m--> 884\u001b[0m         \u001b[38;5;28mself\u001b[39m\u001b[38;5;241m.\u001b[39mleft, \u001b[38;5;28mself\u001b[39m\u001b[38;5;241m.\u001b[39mright \u001b[38;5;241m=\u001b[39m \u001b[38;5;28mself\u001b[39m\u001b[38;5;241m.\u001b[39m_indicator_pre_merge(\u001b[38;5;28mself\u001b[39m\u001b[38;5;241m.\u001b[39mleft, \u001b[38;5;28mself\u001b[39m\u001b[38;5;241m.\u001b[39mright)\n\u001b[1;32m    886\u001b[0m     join_index, left_indexer, right_indexer \u001b[38;5;241m=\u001b[39m \u001b[38;5;28mself\u001b[39m\u001b[38;5;241m.\u001b[39m_get_join_info()\n\u001b[1;32m    888\u001b[0m     result \u001b[38;5;241m=\u001b[39m \u001b[38;5;28mself\u001b[39m\u001b[38;5;241m.\u001b[39m_reindex_and_concat(\n\u001b[1;32m    889\u001b[0m         join_index, left_indexer, right_indexer, copy\u001b[38;5;241m=\u001b[39mcopy\n\u001b[1;32m    890\u001b[0m     )\n",
      "File \u001b[0;32m/opt/anaconda3/lib/python3.12/site-packages/pandas/core/reshape/merge.py:927\u001b[0m, in \u001b[0;36m_MergeOperation._indicator_pre_merge\u001b[0;34m(self, left, right)\u001b[0m\n\u001b[1;32m    922\u001b[0m         \u001b[38;5;28;01mraise\u001b[39;00m \u001b[38;5;167;01mValueError\u001b[39;00m(\n\u001b[1;32m    923\u001b[0m             \u001b[38;5;124m\"\u001b[39m\u001b[38;5;124mCannot use `indicator=True` option when \u001b[39m\u001b[38;5;124m\"\u001b[39m\n\u001b[1;32m    924\u001b[0m             \u001b[38;5;124mf\u001b[39m\u001b[38;5;124m\"\u001b[39m\u001b[38;5;124mdata contains a column named \u001b[39m\u001b[38;5;132;01m{\u001b[39;00mi\u001b[38;5;132;01m}\u001b[39;00m\u001b[38;5;124m\"\u001b[39m\n\u001b[1;32m    925\u001b[0m         )\n\u001b[1;32m    926\u001b[0m \u001b[38;5;28;01mif\u001b[39;00m \u001b[38;5;28mself\u001b[39m\u001b[38;5;241m.\u001b[39m_indicator_name \u001b[38;5;129;01min\u001b[39;00m columns:\n\u001b[0;32m--> 927\u001b[0m     \u001b[38;5;28;01mraise\u001b[39;00m \u001b[38;5;167;01mValueError\u001b[39;00m(\n\u001b[1;32m    928\u001b[0m         \u001b[38;5;124m\"\u001b[39m\u001b[38;5;124mCannot use name of an existing column for indicator column\u001b[39m\u001b[38;5;124m\"\u001b[39m\n\u001b[1;32m    929\u001b[0m     )\n\u001b[1;32m    931\u001b[0m left \u001b[38;5;241m=\u001b[39m left\u001b[38;5;241m.\u001b[39mcopy()\n\u001b[1;32m    932\u001b[0m right \u001b[38;5;241m=\u001b[39m right\u001b[38;5;241m.\u001b[39mcopy()\n",
      "\u001b[0;31mValueError\u001b[0m: Cannot use name of an existing column for indicator column"
     ]
    }
   ],
   "source": [
    "df_final_merge = df_orders_products_combined.merge(\n",
    "    df_prods, on='product_id', how='inner', indicator=True\n",
    ")\n"
   ]
  },
  {
   "cell_type": "markdown",
   "id": "978f64f5-b433-468a-9f32-d65067806c50",
   "metadata": {},
   "source": [
    "# Steps to Resolve the issue with merging"
   ]
  },
  {
   "cell_type": "code",
   "execution_count": 31,
   "id": "a4c2f0ec-0482-4c25-a946-80c873b3c616",
   "metadata": {},
   "outputs": [],
   "source": [
    "# Check and Align Data Types\n",
    "df_orders_products_combined['product_id'] = df_orders_products_combined['product_id'].astype(str)\n",
    "df_prods['product_id'] = df_prods['product_id'].astype(str)\n"
   ]
  },
  {
   "cell_type": "code",
   "execution_count": 33,
   "id": "4a431f69-680b-4902-8a52-03a826264d86",
   "metadata": {},
   "outputs": [
    {
     "name": "stdout",
     "output_type": "stream",
     "text": [
      "Columns in df_orders_products_combined: Index(['order_id', 'user_id', 'order_number', 'order_day_of_week',\n",
      "       'order_hour_of_day', 'days_since_prior_order', 'product_id',\n",
      "       'add_to_cart_order', 'reordered', '_merge'],\n",
      "      dtype='object')\n",
      "Columns in df_prods: Index(['product_id', 'product_name', 'aisle_id', 'department_id', 'prices'], dtype='object')\n"
     ]
    }
   ],
   "source": [
    "# Check for Overlapping Columns\n",
    "print(\"Columns in df_orders_products_combined:\", df_orders_products_combined.columns)\n",
    "print(\"Columns in df_prods:\", df_prods.columns)\n"
   ]
  },
  {
   "cell_type": "code",
   "execution_count": 35,
   "id": "25d64b2e-587d-406b-99ea-ca3eb8fc8ac5",
   "metadata": {},
   "outputs": [
    {
     "name": "stdout",
     "output_type": "stream",
     "text": [
      "object\n",
      "object\n"
     ]
    }
   ],
   "source": [
    "print(df_orders_products_combined['product_id'].dtype)\n",
    "print(df_prods['product_id'].dtype)\n"
   ]
  },
  {
   "cell_type": "code",
   "execution_count": 37,
   "id": "e2a649eb-424f-4835-a881-a9159954542f",
   "metadata": {},
   "outputs": [],
   "source": [
    "#Check for Whitespace or Formatting Issues\n",
    "df_orders_products_combined['product_id'] = df_orders_products_combined['product_id'].str.strip()\n",
    "df_prods['product_id'] = df_prods['product_id'].str.strip()\n"
   ]
  },
  {
   "cell_type": "code",
   "execution_count": 39,
   "id": "9a5fcd75-247b-45c9-ab62-81224b5cc46e",
   "metadata": {},
   "outputs": [
    {
     "name": "stdout",
     "output_type": "stream",
     "text": [
      "Number of common product IDs: 49659\n",
      "Total unique product IDs in df_orders_products_combined: 49677\n",
      "Total unique product IDs in df_prods: 49670\n"
     ]
    }
   ],
   "source": [
    "#Verify Common Product IDs\n",
    "common_ids = set(df_orders_products_combined['product_id']).intersection(set(df_prods['product_id']))\n",
    "print(f\"Number of common product IDs: {len(common_ids)}\")\n",
    "print(f\"Total unique product IDs in df_orders_products_combined: {df_orders_products_combined['product_id'].nunique()}\")\n",
    "print(f\"Total unique product IDs in df_prods: {df_prods['product_id'].nunique()}\")\n"
   ]
  },
  {
   "cell_type": "code",
   "execution_count": 41,
   "id": "5e070e73-dc31-480e-95ba-d378b68e359e",
   "metadata": {},
   "outputs": [
    {
     "name": "stdout",
     "output_type": "stream",
     "text": [
      "Duplicates in df_orders_products_combined['product_id']: 32384812\n",
      "Duplicates in df_prods['product_id']: 2\n"
     ]
    }
   ],
   "source": [
    "# Check for Duplicates in product_id Columns\n",
    "# Check for duplicates in df_orders_products_combined\n",
    "print(f\"Duplicates in df_orders_products_combined['product_id']: {df_orders_products_combined['product_id'].duplicated().sum()}\")\n",
    "\n",
    "# Check for duplicates in df_prods\n",
    "print(f\"Duplicates in df_prods['product_id']: {df_prods['product_id'].duplicated().sum()}\")\n"
   ]
  },
  {
   "cell_type": "code",
   "execution_count": 43,
   "id": "0162bc38-5993-48d8-a3ad-f62c38b26518",
   "metadata": {},
   "outputs": [
    {
     "name": "stdout",
     "output_type": "stream",
     "text": [
      "New shape of df_orders_products_combined: (32434489, 10)\n"
     ]
    }
   ],
   "source": [
    "# Remove duplicates while keeping the first occurrence\n",
    "df_orders_products_combined = df_orders_products_combined.drop_duplicates(subset=['product_id', 'order_id'])\n",
    "print(f\"New shape of df_orders_products_combined: {df_orders_products_combined.shape}\")\n"
   ]
  },
  {
   "cell_type": "code",
   "execution_count": 45,
   "id": "03b8a170-0a8a-4e88-baf3-8e008a3a21be",
   "metadata": {},
   "outputs": [
    {
     "name": "stdout",
     "output_type": "stream",
     "text": [
      "New shape of df_prods: (49670, 5)\n"
     ]
    }
   ],
   "source": [
    "# Drop duplicates in df_prods\n",
    "df_prods = df_prods.drop_duplicates(subset=['product_id'])\n",
    "print(f\"New shape of df_prods: {df_prods.shape}\")\n"
   ]
  },
  {
   "cell_type": "markdown",
   "id": "886be598-d9a8-41bb-bbd2-e4d12d2a2c80",
   "metadata": {},
   "source": [
    "# Recheck for Null Values"
   ]
  },
  {
   "cell_type": "code",
   "execution_count": 47,
   "id": "91298d08-fd3f-435e-9df6-60ce6514c79b",
   "metadata": {},
   "outputs": [
    {
     "name": "stdout",
     "output_type": "stream",
     "text": [
      "Null values in df_orders_products_combined['product_id']: 0\n",
      "Null values in df_prods['product_id']: 0\n"
     ]
    }
   ],
   "source": [
    "print(f\"Null values in df_orders_products_combined['product_id']: {df_orders_products_combined['product_id'].isnull().sum()}\")\n",
    "print(f\"Null values in df_prods['product_id']: {df_prods['product_id'].isnull().sum()}\")\n"
   ]
  },
  {
   "cell_type": "code",
   "execution_count": 51,
   "id": "e7138114-0749-47c1-93ed-349fa06a5317",
   "metadata": {},
   "outputs": [],
   "source": [
    "# columns are consistent in type and formatting\n",
    "# Ensure column consistency in type and format using .loc to avoid SettingWithCopyWarning\n",
    "df_orders_products_combined['product_id'] = df_orders_products_combined['product_id'].astype(str).str.strip()\n",
    "df_prods.loc[:, 'product_id'] = df_prods['product_id'].astype(str).str.strip()\n"
   ]
  },
  {
   "cell_type": "code",
   "execution_count": 57,
   "id": "a0e3972b-5f4b-4ab2-8caa-92d3f0e482f0",
   "metadata": {},
   "outputs": [
    {
     "name": "stdout",
     "output_type": "stream",
     "text": [
      "object\n",
      "object\n"
     ]
    }
   ],
   "source": [
    "print(df_orders_products_combined['product_id'].dtype)\n",
    "print(df_prods['product_id'].dtype)\n"
   ]
  },
  {
   "cell_type": "code",
   "execution_count": 59,
   "id": "4ae50470-021f-42c4-bd73-11f1ffefbb12",
   "metadata": {},
   "outputs": [
    {
     "name": "stdout",
     "output_type": "stream",
     "text": [
      "0\n",
      "0\n"
     ]
    }
   ],
   "source": [
    "print(df_orders_products_combined['product_id'].isnull().sum())\n",
    "print(df_prods['product_id'].isnull().sum())\n"
   ]
  },
  {
   "cell_type": "code",
   "execution_count": 61,
   "id": "c024395f-c4e4-4df6-8f51-8b0fe413deab",
   "metadata": {},
   "outputs": [
    {
     "name": "stdout",
     "output_type": "stream",
     "text": [
      "Number of common product IDs: 49659\n",
      "Unique product IDs in df_orders_products_combined: 49677\n",
      "Unique product IDs in df_prods: 49670\n"
     ]
    }
   ],
   "source": [
    "common_ids = set(df_orders_products_combined['product_id']).intersection(set(df_prods['product_id']))\n",
    "print(f\"Number of common product IDs: {len(common_ids)}\")\n",
    "print(f\"Unique product IDs in df_orders_products_combined: {df_orders_products_combined['product_id'].nunique()}\")\n",
    "print(f\"Unique product IDs in df_prods: {df_prods['product_id'].nunique()}\")\n"
   ]
  },
  {
   "cell_type": "markdown",
   "id": "82d30dcf-1f92-4b55-b698-f762a78e8386",
   "metadata": {},
   "source": [
    "# Investigate Missing IDs"
   ]
  },
  {
   "cell_type": "code",
   "execution_count": 63,
   "id": "9e35aa4f-e81a-425d-9bdb-638b394f7ea9",
   "metadata": {},
   "outputs": [
    {
     "name": "stdout",
     "output_type": "stream",
     "text": [
      "Product IDs in df_orders_products_combined but not in df_prods: 18\n",
      "{'69', '262', '3736', '38183', '525', '4283', '40440', '116', '2240', '3230', '6799', '26519', '4790', '34', '2586', '1780', '1511', '3159'}\n",
      "Product IDs in df_prods but not in df_orders_products_combined: 11\n",
      "{'3630', '3718', '25383', '43725', '27499', '49540', '46625', '36233', '45971', '7045', '37703'}\n"
     ]
    }
   ],
   "source": [
    "# IDs in df_orders_products_combined but not in df_prods\n",
    "missing_in_prods = set(df_orders_products_combined['product_id']) - set(df_prods['product_id'])\n",
    "print(f\"Product IDs in df_orders_products_combined but not in df_prods: {len(missing_in_prods)}\")\n",
    "print(missing_in_prods)\n",
    "\n",
    "# IDs in df_prods but not in df_orders_products_combined\n",
    "missing_in_orders = set(df_prods['product_id']) - set(df_orders_products_combined['product_id'])\n",
    "print(f\"Product IDs in df_prods but not in df_orders_products_combined: {len(missing_in_orders)}\")\n",
    "print(missing_in_orders)\n"
   ]
  },
  {
   "cell_type": "markdown",
   "id": "5bb13de6-4681-4414-96fe-920524b1b8a9",
   "metadata": {},
   "source": [
    "# Decided for Exclude Missing IDs"
   ]
  },
  {
   "cell_type": "code",
   "execution_count": 67,
   "id": "6af011a4-8872-4cab-a287-790625737232",
   "metadata": {},
   "outputs": [],
   "source": [
    "# Filter out rows with missing IDs\n",
    "df_orders_products_combined = df_orders_products_combined[\n",
    "    ~df_orders_products_combined['product_id'].isin(missing_in_prods)\n",
    "]\n",
    "df_prods = df_prods[~df_prods['product_id'].isin(missing_in_orders)]\n"
   ]
  },
  {
   "cell_type": "code",
   "execution_count": 69,
   "id": "428f983d-00e7-4a92-8493-ece2596f7308",
   "metadata": {},
   "outputs": [
    {
     "ename": "ValueError",
     "evalue": "Cannot use name of an existing column for indicator column",
     "output_type": "error",
     "traceback": [
      "\u001b[0;31m---------------------------------------------------------------------------\u001b[0m",
      "\u001b[0;31mValueError\u001b[0m                                Traceback (most recent call last)",
      "Cell \u001b[0;32mIn[69], line 1\u001b[0m\n\u001b[0;32m----> 1\u001b[0m df_final_merge \u001b[38;5;241m=\u001b[39m df_orders_products_combined\u001b[38;5;241m.\u001b[39mmerge(\n\u001b[1;32m      2\u001b[0m     df_prods, on\u001b[38;5;241m=\u001b[39m\u001b[38;5;124m'\u001b[39m\u001b[38;5;124mproduct_id\u001b[39m\u001b[38;5;124m'\u001b[39m, how\u001b[38;5;241m=\u001b[39m\u001b[38;5;124m'\u001b[39m\u001b[38;5;124minner\u001b[39m\u001b[38;5;124m'\u001b[39m, indicator\u001b[38;5;241m=\u001b[39m\u001b[38;5;28;01mTrue\u001b[39;00m\n\u001b[1;32m      3\u001b[0m )\n\u001b[1;32m      5\u001b[0m \u001b[38;5;66;03m# Preview the merged DataFrame\u001b[39;00m\n\u001b[1;32m      6\u001b[0m \u001b[38;5;28mprint\u001b[39m(df_final_merge\u001b[38;5;241m.\u001b[39mhead())\n",
      "File \u001b[0;32m/opt/anaconda3/lib/python3.12/site-packages/pandas/core/frame.py:10832\u001b[0m, in \u001b[0;36mDataFrame.merge\u001b[0;34m(self, right, how, on, left_on, right_on, left_index, right_index, sort, suffixes, copy, indicator, validate)\u001b[0m\n\u001b[1;32m  10813\u001b[0m \u001b[38;5;129m@Substitution\u001b[39m(\u001b[38;5;124m\"\u001b[39m\u001b[38;5;124m\"\u001b[39m)\n\u001b[1;32m  10814\u001b[0m \u001b[38;5;129m@Appender\u001b[39m(_merge_doc, indents\u001b[38;5;241m=\u001b[39m\u001b[38;5;241m2\u001b[39m)\n\u001b[1;32m  10815\u001b[0m \u001b[38;5;28;01mdef\u001b[39;00m \u001b[38;5;21mmerge\u001b[39m(\n\u001b[0;32m   (...)\u001b[0m\n\u001b[1;32m  10828\u001b[0m     validate: MergeValidate \u001b[38;5;241m|\u001b[39m \u001b[38;5;28;01mNone\u001b[39;00m \u001b[38;5;241m=\u001b[39m \u001b[38;5;28;01mNone\u001b[39;00m,\n\u001b[1;32m  10829\u001b[0m ) \u001b[38;5;241m-\u001b[39m\u001b[38;5;241m>\u001b[39m DataFrame:\n\u001b[1;32m  10830\u001b[0m     \u001b[38;5;28;01mfrom\u001b[39;00m \u001b[38;5;21;01mpandas\u001b[39;00m\u001b[38;5;21;01m.\u001b[39;00m\u001b[38;5;21;01mcore\u001b[39;00m\u001b[38;5;21;01m.\u001b[39;00m\u001b[38;5;21;01mreshape\u001b[39;00m\u001b[38;5;21;01m.\u001b[39;00m\u001b[38;5;21;01mmerge\u001b[39;00m \u001b[38;5;28;01mimport\u001b[39;00m merge\n\u001b[0;32m> 10832\u001b[0m     \u001b[38;5;28;01mreturn\u001b[39;00m merge(\n\u001b[1;32m  10833\u001b[0m         \u001b[38;5;28mself\u001b[39m,\n\u001b[1;32m  10834\u001b[0m         right,\n\u001b[1;32m  10835\u001b[0m         how\u001b[38;5;241m=\u001b[39mhow,\n\u001b[1;32m  10836\u001b[0m         on\u001b[38;5;241m=\u001b[39mon,\n\u001b[1;32m  10837\u001b[0m         left_on\u001b[38;5;241m=\u001b[39mleft_on,\n\u001b[1;32m  10838\u001b[0m         right_on\u001b[38;5;241m=\u001b[39mright_on,\n\u001b[1;32m  10839\u001b[0m         left_index\u001b[38;5;241m=\u001b[39mleft_index,\n\u001b[1;32m  10840\u001b[0m         right_index\u001b[38;5;241m=\u001b[39mright_index,\n\u001b[1;32m  10841\u001b[0m         sort\u001b[38;5;241m=\u001b[39msort,\n\u001b[1;32m  10842\u001b[0m         suffixes\u001b[38;5;241m=\u001b[39msuffixes,\n\u001b[1;32m  10843\u001b[0m         copy\u001b[38;5;241m=\u001b[39mcopy,\n\u001b[1;32m  10844\u001b[0m         indicator\u001b[38;5;241m=\u001b[39mindicator,\n\u001b[1;32m  10845\u001b[0m         validate\u001b[38;5;241m=\u001b[39mvalidate,\n\u001b[1;32m  10846\u001b[0m     )\n",
      "File \u001b[0;32m/opt/anaconda3/lib/python3.12/site-packages/pandas/core/reshape/merge.py:184\u001b[0m, in \u001b[0;36mmerge\u001b[0;34m(left, right, how, on, left_on, right_on, left_index, right_index, sort, suffixes, copy, indicator, validate)\u001b[0m\n\u001b[1;32m    169\u001b[0m \u001b[38;5;28;01melse\u001b[39;00m:\n\u001b[1;32m    170\u001b[0m     op \u001b[38;5;241m=\u001b[39m _MergeOperation(\n\u001b[1;32m    171\u001b[0m         left_df,\n\u001b[1;32m    172\u001b[0m         right_df,\n\u001b[0;32m   (...)\u001b[0m\n\u001b[1;32m    182\u001b[0m         validate\u001b[38;5;241m=\u001b[39mvalidate,\n\u001b[1;32m    183\u001b[0m     )\n\u001b[0;32m--> 184\u001b[0m     \u001b[38;5;28;01mreturn\u001b[39;00m op\u001b[38;5;241m.\u001b[39mget_result(copy\u001b[38;5;241m=\u001b[39mcopy)\n",
      "File \u001b[0;32m/opt/anaconda3/lib/python3.12/site-packages/pandas/core/reshape/merge.py:884\u001b[0m, in \u001b[0;36m_MergeOperation.get_result\u001b[0;34m(self, copy)\u001b[0m\n\u001b[1;32m    882\u001b[0m \u001b[38;5;28;01mdef\u001b[39;00m \u001b[38;5;21mget_result\u001b[39m(\u001b[38;5;28mself\u001b[39m, copy: \u001b[38;5;28mbool\u001b[39m \u001b[38;5;241m|\u001b[39m \u001b[38;5;28;01mNone\u001b[39;00m \u001b[38;5;241m=\u001b[39m \u001b[38;5;28;01mTrue\u001b[39;00m) \u001b[38;5;241m-\u001b[39m\u001b[38;5;241m>\u001b[39m DataFrame:\n\u001b[1;32m    883\u001b[0m     \u001b[38;5;28;01mif\u001b[39;00m \u001b[38;5;28mself\u001b[39m\u001b[38;5;241m.\u001b[39mindicator:\n\u001b[0;32m--> 884\u001b[0m         \u001b[38;5;28mself\u001b[39m\u001b[38;5;241m.\u001b[39mleft, \u001b[38;5;28mself\u001b[39m\u001b[38;5;241m.\u001b[39mright \u001b[38;5;241m=\u001b[39m \u001b[38;5;28mself\u001b[39m\u001b[38;5;241m.\u001b[39m_indicator_pre_merge(\u001b[38;5;28mself\u001b[39m\u001b[38;5;241m.\u001b[39mleft, \u001b[38;5;28mself\u001b[39m\u001b[38;5;241m.\u001b[39mright)\n\u001b[1;32m    886\u001b[0m     join_index, left_indexer, right_indexer \u001b[38;5;241m=\u001b[39m \u001b[38;5;28mself\u001b[39m\u001b[38;5;241m.\u001b[39m_get_join_info()\n\u001b[1;32m    888\u001b[0m     result \u001b[38;5;241m=\u001b[39m \u001b[38;5;28mself\u001b[39m\u001b[38;5;241m.\u001b[39m_reindex_and_concat(\n\u001b[1;32m    889\u001b[0m         join_index, left_indexer, right_indexer, copy\u001b[38;5;241m=\u001b[39mcopy\n\u001b[1;32m    890\u001b[0m     )\n",
      "File \u001b[0;32m/opt/anaconda3/lib/python3.12/site-packages/pandas/core/reshape/merge.py:927\u001b[0m, in \u001b[0;36m_MergeOperation._indicator_pre_merge\u001b[0;34m(self, left, right)\u001b[0m\n\u001b[1;32m    922\u001b[0m         \u001b[38;5;28;01mraise\u001b[39;00m \u001b[38;5;167;01mValueError\u001b[39;00m(\n\u001b[1;32m    923\u001b[0m             \u001b[38;5;124m\"\u001b[39m\u001b[38;5;124mCannot use `indicator=True` option when \u001b[39m\u001b[38;5;124m\"\u001b[39m\n\u001b[1;32m    924\u001b[0m             \u001b[38;5;124mf\u001b[39m\u001b[38;5;124m\"\u001b[39m\u001b[38;5;124mdata contains a column named \u001b[39m\u001b[38;5;132;01m{\u001b[39;00mi\u001b[38;5;132;01m}\u001b[39;00m\u001b[38;5;124m\"\u001b[39m\n\u001b[1;32m    925\u001b[0m         )\n\u001b[1;32m    926\u001b[0m \u001b[38;5;28;01mif\u001b[39;00m \u001b[38;5;28mself\u001b[39m\u001b[38;5;241m.\u001b[39m_indicator_name \u001b[38;5;129;01min\u001b[39;00m columns:\n\u001b[0;32m--> 927\u001b[0m     \u001b[38;5;28;01mraise\u001b[39;00m \u001b[38;5;167;01mValueError\u001b[39;00m(\n\u001b[1;32m    928\u001b[0m         \u001b[38;5;124m\"\u001b[39m\u001b[38;5;124mCannot use name of an existing column for indicator column\u001b[39m\u001b[38;5;124m\"\u001b[39m\n\u001b[1;32m    929\u001b[0m     )\n\u001b[1;32m    931\u001b[0m left \u001b[38;5;241m=\u001b[39m left\u001b[38;5;241m.\u001b[39mcopy()\n\u001b[1;32m    932\u001b[0m right \u001b[38;5;241m=\u001b[39m right\u001b[38;5;241m.\u001b[39mcopy()\n",
      "\u001b[0;31mValueError\u001b[0m: Cannot use name of an existing column for indicator column"
     ]
    }
   ],
   "source": [
    "df_final_merge = df_orders_products_combined.merge(\n",
    "    df_prods, on='product_id', how='inner', indicator=True\n",
    ")\n",
    "\n",
    "# Preview the merged DataFrame\n",
    "print(df_final_merge.head())\n",
    "\n",
    "# Check the merge flag values\n",
    "print(df_final_merge['_merge'].value_counts())\n"
   ]
  },
  {
   "cell_type": "code",
   "execution_count": 71,
   "id": "74e8fcbc-b22e-400c-a10c-4fcd39c0c8ea",
   "metadata": {},
   "outputs": [
    {
     "name": "stdout",
     "output_type": "stream",
     "text": [
      "_merge column in df_orders_products_combined: True\n",
      "_merge column in df_prods: False\n"
     ]
    }
   ],
   "source": [
    "# Check for the '_merge' column in both DataFrames\n",
    "print(\"_merge column in df_orders_products_combined:\", '_merge' in df_orders_products_combined.columns)\n",
    "print(\"_merge column in df_prods:\", '_merge' in df_prods.columns)\n"
   ]
  },
  {
   "cell_type": "code",
   "execution_count": 74,
   "id": "038df18a-2cbb-4dac-975d-551e58b0ce36",
   "metadata": {},
   "outputs": [],
   "source": [
    "# Drop the _merge column in df_orders_products_combined\n",
    "df_orders_products_combined = df_orders_products_combined.drop(columns=['_merge'])\n"
   ]
  },
  {
   "cell_type": "code",
   "execution_count": 76,
   "id": "3c9b3a22-659d-46fd-bfa4-0a223724dd9f",
   "metadata": {},
   "outputs": [
    {
     "name": "stdout",
     "output_type": "stream",
     "text": [
      "_merge column in df_orders_products_combined after dropping: False\n"
     ]
    }
   ],
   "source": [
    "#check\n",
    "print(\"_merge column in df_orders_products_combined after dropping:\", '_merge' in df_orders_products_combined.columns)\n"
   ]
  },
  {
   "cell_type": "code",
   "execution_count": 78,
   "id": "d54805a5-0721-45ee-96cf-f1c25811e5f5",
   "metadata": {},
   "outputs": [
    {
     "name": "stdout",
     "output_type": "stream",
     "text": [
      "   order_id  user_id  order_number  order_day_of_week  order_hour_of_day  \\\n",
      "0   2539329        1             1                  2                  8   \n",
      "1   2539329        1             1                  2                  8   \n",
      "2   2539329        1             1                  2                  8   \n",
      "3   2539329        1             1                  2                  8   \n",
      "4   2539329        1             1                  2                  8   \n",
      "\n",
      "   days_since_prior_order product_id  add_to_cart_order  reordered  \\\n",
      "0                     NaN        196                  1          0   \n",
      "1                     NaN      14084                  2          0   \n",
      "2                     NaN      12427                  3          0   \n",
      "3                     NaN      26088                  4          0   \n",
      "4                     NaN      26405                  5          0   \n",
      "\n",
      "                              product_name  aisle_id  department_id  prices  \\\n",
      "0                                     Soda        77              7     9.0   \n",
      "1  Organic Unsweetened Vanilla Almond Milk        91             16    12.5   \n",
      "2                      Original Beef Jerky        23             19     4.4   \n",
      "3               Aged White Cheddar Popcorn        23             19     4.7   \n",
      "4         XL Pick-A-Size Paper Towel Rolls        54             17     1.0   \n",
      "\n",
      "  _merge  \n",
      "0   both  \n",
      "1   both  \n",
      "2   both  \n",
      "3   both  \n",
      "4   both  \n",
      "_merge\n",
      "both          32404289\n",
      "left_only            0\n",
      "right_only           0\n",
      "Name: count, dtype: int64\n"
     ]
    }
   ],
   "source": [
    "# Perform the merge again\n",
    "df_final_merge = df_orders_products_combined.merge(\n",
    "    df_prods, on='product_id', how='inner', indicator=True\n",
    ")\n",
    "\n",
    "# Preview the merged DataFrame\n",
    "print(df_final_merge.head())\n",
    "\n",
    "# Check the merge flag values\n",
    "print(df_final_merge['_merge'].value_counts())\n"
   ]
  },
  {
   "cell_type": "markdown",
   "id": "22a29dc3-78d7-46d3-aa21-b096bf21586f",
   "metadata": {},
   "source": [
    "# Step 6: Confirm the Results of the Merge Using the Merge Flag"
   ]
  },
  {
   "cell_type": "code",
   "execution_count": 80,
   "id": "758e6b58-38e1-42e2-950a-45ca4aaacdb6",
   "metadata": {},
   "outputs": [
    {
     "name": "stdout",
     "output_type": "stream",
     "text": [
      "_merge\n",
      "both          32404289\n",
      "left_only            0\n",
      "right_only           0\n",
      "Name: count, dtype: int64\n"
     ]
    }
   ],
   "source": [
    "print(df_final_merge['_merge'].value_counts())\n"
   ]
  },
  {
   "cell_type": "code",
   "execution_count": 82,
   "id": "fbb4651b-3a09-46ad-856a-90ce252cd17c",
   "metadata": {},
   "outputs": [],
   "source": [
    "# Drop the _merge Column \n",
    "df_final_merge.drop(columns=['_merge'], inplace=True)\n"
   ]
  },
  {
   "cell_type": "markdown",
   "id": "f5d49448-23a2-415d-ac9a-dcd60e69927e",
   "metadata": {},
   "source": [
    "# Step 7: Export the Newly Created DataFrame as ords_prods_merge"
   ]
  },
  {
   "cell_type": "code",
   "execution_count": 84,
   "id": "40158b5d-5b05-43e5-b035-89d402fc3d60",
   "metadata": {},
   "outputs": [],
   "source": [
    "# Export as Pickle Format\n",
    "df_final_merge.to_pickle(os.path.join(prepared_data_path, 'ords_prods_merge.pkl'))\n"
   ]
  },
  {
   "cell_type": "code",
   "execution_count": 86,
   "id": "791b1b8b-05be-4c38-a23a-97dc7c92d0d1",
   "metadata": {},
   "outputs": [
    {
     "name": "stdout",
     "output_type": "stream",
     "text": [
      "   order_id  user_id  order_number  order_day_of_week  order_hour_of_day  \\\n",
      "0   2539329        1             1                  2                  8   \n",
      "1   2539329        1             1                  2                  8   \n",
      "2   2539329        1             1                  2                  8   \n",
      "3   2539329        1             1                  2                  8   \n",
      "4   2539329        1             1                  2                  8   \n",
      "\n",
      "   days_since_prior_order product_id  add_to_cart_order  reordered  \\\n",
      "0                     NaN        196                  1          0   \n",
      "1                     NaN      14084                  2          0   \n",
      "2                     NaN      12427                  3          0   \n",
      "3                     NaN      26088                  4          0   \n",
      "4                     NaN      26405                  5          0   \n",
      "\n",
      "                              product_name  aisle_id  department_id  prices  \n",
      "0                                     Soda        77              7     9.0  \n",
      "1  Organic Unsweetened Vanilla Almond Milk        91             16    12.5  \n",
      "2                      Original Beef Jerky        23             19     4.4  \n",
      "3               Aged White Cheddar Popcorn        23             19     4.7  \n",
      "4         XL Pick-A-Size Paper Towel Rolls        54             17     1.0  \n"
     ]
    }
   ],
   "source": [
    "# Confirm Pickle Export\n",
    "df_check_pickle = pd.read_pickle(os.path.join(prepared_data_path, 'ords_prods_merge.pkl'))\n",
    "print(df_check_pickle.head())\n",
    "\n"
   ]
  }
 ],
 "metadata": {
  "kernelspec": {
   "display_name": "Python [conda env:base] *",
   "language": "python",
   "name": "conda-base-py"
  },
  "language_info": {
   "codemirror_mode": {
    "name": "ipython",
    "version": 3
   },
   "file_extension": ".py",
   "mimetype": "text/x-python",
   "name": "python",
   "nbconvert_exporter": "python",
   "pygments_lexer": "ipython3",
   "version": "3.12.7"
  }
 },
 "nbformat": 4,
 "nbformat_minor": 5
}
