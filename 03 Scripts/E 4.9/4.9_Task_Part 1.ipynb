{
 "cells": [
  {
   "cell_type": "markdown",
   "id": "5de109ef-324a-4f46-a6cc-23c6462f90c3",
   "metadata": {},
   "source": [
    "# Import libraries and load the customer data"
   ]
  },
  {
   "cell_type": "code",
   "execution_count": 4,
   "id": "969c83f9-076c-425f-8d24-5a9a7e11a3d9",
   "metadata": {},
   "outputs": [
    {
     "name": "stdout",
     "output_type": "stream",
     "text": [
      "   user_id First Name    Surnam  Gender       STATE  Age date_joined  \\\n",
      "0    26711    Deborah  Esquivel  Female    Missouri   48    1/1/2017   \n",
      "1    33890   Patricia      Hart  Female  New Mexico   36    1/1/2017   \n",
      "2    65803    Kenneth    Farley    Male       Idaho   35    1/1/2017   \n",
      "3   125935   Michelle     Hicks  Female        Iowa   40    1/1/2017   \n",
      "4   130797        Ann   Gilmore  Female    Maryland   26    1/1/2017   \n",
      "\n",
      "   n_dependants fam_status  income  \n",
      "0             3    married  165665  \n",
      "1             0     single   59285  \n",
      "2             2    married   99568  \n",
      "3             0     single   42049  \n",
      "4             1    married   40374  \n"
     ]
    }
   ],
   "source": [
    "# Import required libraries\n",
    "import pandas as pd\n",
    "import os\n",
    "\n",
    "path = '/Users/dela/Documents/15-01-2025 Instacart Basket Analysis/02 Data/Original Data'\n",
    "\n",
    "# Load the customer data\n",
    "customer_data = pd.read_csv(os.path.join(path, 'customers.csv'))\n",
    "\n",
    "# Display the first few rows\n",
    "print(customer_data.head())\n"
   ]
  },
  {
   "cell_type": "code",
   "execution_count": 6,
   "id": "491bb8ca-d6c5-4767-a931-47eca0e7748c",
   "metadata": {},
   "outputs": [
    {
     "name": "stdout",
     "output_type": "stream",
     "text": [
      "user_id             0\n",
      "First Name      11259\n",
      "Surnam              0\n",
      "Gender              0\n",
      "STATE               0\n",
      "Age                 0\n",
      "date_joined         0\n",
      "n_dependants        0\n",
      "fam_status          0\n",
      "income              0\n",
      "dtype: int64\n"
     ]
    }
   ],
   "source": [
    "# Wrangle the data\n",
    "print(customer_data.isnull().sum())\n"
   ]
  },
  {
   "cell_type": "markdown",
   "id": "5e6b1cf5-de20-4fec-9956-7e024cce87ca",
   "metadata": {},
   "source": [
    "# Drop the column First Name"
   ]
  },
  {
   "cell_type": "code",
   "execution_count": 8,
   "id": "3ef8c007-c0a1-44a9-9f6e-6900889dc9ac",
   "metadata": {},
   "outputs": [],
   "source": [
    "customer_data.drop(columns=['First Name'], inplace=True)\n"
   ]
  },
  {
   "cell_type": "code",
   "execution_count": 10,
   "id": "47aff82e-84f2-4a33-ba51-8068dccf3cba",
   "metadata": {},
   "outputs": [
    {
     "name": "stdout",
     "output_type": "stream",
     "text": [
      "user_id         0\n",
      "Surnam          0\n",
      "Gender          0\n",
      "STATE           0\n",
      "Age             0\n",
      "date_joined     0\n",
      "n_dependants    0\n",
      "fam_status      0\n",
      "income          0\n",
      "dtype: int64\n",
      "Index(['user_id', 'Surnam', 'Gender', 'STATE', 'Age', 'date_joined',\n",
      "       'n_dependants', 'fam_status', 'income'],\n",
      "      dtype='object')\n"
     ]
    }
   ],
   "source": [
    "print(customer_data.isnull().sum())  # Confirm no remaining missing values\n",
    "print(customer_data.columns)        # Confirm the column is dropped\n"
   ]
  },
  {
   "cell_type": "code",
   "execution_count": 12,
   "id": "b9e881b4-2538-4d84-9f8e-347f4a1620ec",
   "metadata": {},
   "outputs": [
    {
     "name": "stdout",
     "output_type": "stream",
     "text": [
      "Number of duplicate rows: 0\n"
     ]
    }
   ],
   "source": [
    "# Check for duplicates\n",
    "duplicates = customer_data.duplicated()\n",
    "print(f\"Number of duplicate rows: {duplicates.sum()}\")\n"
   ]
  },
  {
   "cell_type": "code",
   "execution_count": 14,
   "id": "f8a41b98-f613-4c99-a62b-479c465330e8",
   "metadata": {},
   "outputs": [
    {
     "name": "stdout",
     "output_type": "stream",
     "text": [
      "user_id          int64\n",
      "Surnam          object\n",
      "Gender          object\n",
      "STATE           object\n",
      "Age              int64\n",
      "date_joined     object\n",
      "n_dependants     int64\n",
      "fam_status      object\n",
      "income           int64\n",
      "dtype: object\n"
     ]
    }
   ],
   "source": [
    "# Check data types\n",
    "print(customer_data.dtypes)\n"
   ]
  },
  {
   "cell_type": "code",
   "execution_count": 16,
   "id": "dafee06b-eccd-4fb4-aad5-2e8f2662fc68",
   "metadata": {},
   "outputs": [
    {
     "name": "stdout",
     "output_type": "stream",
     "text": [
      "   user_id    Surnam  Gender       STATE  Age date_joined  n_dependants  \\\n",
      "0    26711  Esquivel  Female    Missouri   48    1/1/2017             3   \n",
      "1    33890      Hart  Female  New Mexico   36    1/1/2017             0   \n",
      "2    65803    Farley    Male       Idaho   35    1/1/2017             2   \n",
      "3   125935     Hicks  Female        Iowa   40    1/1/2017             0   \n",
      "4   130797   Gilmore  Female    Maryland   26    1/1/2017             1   \n",
      "\n",
      "  fam_status  income  \n",
      "0    married  165665  \n",
      "1     single   59285  \n",
      "2    married   99568  \n",
      "3     single   42049  \n",
      "4    married   40374  \n",
      "<class 'pandas.core.frame.DataFrame'>\n",
      "RangeIndex: 206209 entries, 0 to 206208\n",
      "Data columns (total 9 columns):\n",
      " #   Column        Non-Null Count   Dtype \n",
      "---  ------        --------------   ----- \n",
      " 0   user_id       206209 non-null  int64 \n",
      " 1   Surnam        206209 non-null  object\n",
      " 2   Gender        206209 non-null  object\n",
      " 3   STATE         206209 non-null  object\n",
      " 4   Age           206209 non-null  int64 \n",
      " 5   date_joined   206209 non-null  object\n",
      " 6   n_dependants  206209 non-null  int64 \n",
      " 7   fam_status    206209 non-null  object\n",
      " 8   income        206209 non-null  int64 \n",
      "dtypes: int64(4), object(5)\n",
      "memory usage: 14.2+ MB\n",
      "None\n"
     ]
    }
   ],
   "source": [
    "print(customer_data.head())  # Check first few rows\n",
    "print(customer_data.info()) # Review data summary\n"
   ]
  },
  {
   "cell_type": "code",
   "execution_count": 18,
   "id": "c41b4381-24d8-4906-80cb-fc69589f5c98",
   "metadata": {},
   "outputs": [],
   "source": [
    "customer_data['date_joined'] = pd.to_datetime(customer_data['date_joined'], errors='coerce')\n"
   ]
  },
  {
   "cell_type": "code",
   "execution_count": 20,
   "id": "8ae1bc42-8b58-483f-93ec-dc0e596290f4",
   "metadata": {},
   "outputs": [],
   "source": [
    "customer_data['STATE'] = customer_data['STATE'].astype('category')\n",
    "customer_data['Gender'] = customer_data['Gender'].astype('category')\n",
    "customer_data['fam_status'] = customer_data['fam_status'].astype('category')\n"
   ]
  },
  {
   "cell_type": "code",
   "execution_count": 22,
   "id": "0de37423-663c-4e5f-821f-f11397f25de5",
   "metadata": {},
   "outputs": [],
   "source": [
    "customer_data.rename(columns={'Surnam': 'Surname'}, inplace=True)\n",
    "customer_data['Surname'] = customer_data['Surname'].astype('object')\n"
   ]
  },
  {
   "cell_type": "code",
   "execution_count": 24,
   "id": "162f1131-6670-485d-8a55-5876ee19a66c",
   "metadata": {},
   "outputs": [
    {
     "name": "stdout",
     "output_type": "stream",
     "text": [
      "user_id                  int64\n",
      "Surname                 object\n",
      "Gender                category\n",
      "STATE                 category\n",
      "Age                      int64\n",
      "date_joined     datetime64[ns]\n",
      "n_dependants             int64\n",
      "fam_status            category\n",
      "income                   int64\n",
      "dtype: object\n"
     ]
    }
   ],
   "source": [
    "print(customer_data.dtypes)\n"
   ]
  },
  {
   "cell_type": "markdown",
   "id": "93a61639-ed99-4bd2-8c99-452f9348acc8",
   "metadata": {},
   "source": [
    "# Recheck for missing values"
   ]
  },
  {
   "cell_type": "code",
   "execution_count": 26,
   "id": "47109cfb-bb7b-4caa-a454-412c7f8abe17",
   "metadata": {},
   "outputs": [
    {
     "name": "stdout",
     "output_type": "stream",
     "text": [
      "user_id         0\n",
      "Surname         0\n",
      "Gender          0\n",
      "STATE           0\n",
      "Age             0\n",
      "date_joined     0\n",
      "n_dependants    0\n",
      "fam_status      0\n",
      "income          0\n",
      "dtype: int64\n"
     ]
    }
   ],
   "source": [
    "print(customer_data.isnull().sum())\n"
   ]
  },
  {
   "cell_type": "code",
   "execution_count": 28,
   "id": "f7f3f163-b2a7-4f60-864c-0851aa84cefb",
   "metadata": {},
   "outputs": [
    {
     "name": "stdout",
     "output_type": "stream",
     "text": [
      "Gender\n",
      "Male      104067\n",
      "Female    102142\n",
      "Name: count, dtype: int64\n",
      "STATE\n",
      "Alabama                 4044\n",
      "District of Columbia    4044\n",
      "Iowa                    4044\n",
      "Indiana                 4044\n",
      "Illinois                4044\n",
      "Idaho                   4044\n",
      "Georgia                 4044\n",
      "Florida                 4044\n",
      "Hawaii                  4044\n",
      "Delaware                4044\n",
      "Connecticut             4044\n",
      "Colorado                4044\n",
      "California              4044\n",
      "Arkansas                4044\n",
      "Arizona                 4044\n",
      "Alaska                  4044\n",
      "South Dakota            4043\n",
      "Ohio                    4043\n",
      "Oklahoma                4043\n",
      "Oregon                  4043\n",
      "Pennsylvania            4043\n",
      "Rhode Island            4043\n",
      "South Carolina          4043\n",
      "Wisconsin               4043\n",
      "Tennessee               4043\n",
      "Texas                   4043\n",
      "Utah                    4043\n",
      "Vermont                 4043\n",
      "Virginia                4043\n",
      "Washington              4043\n",
      "West Virginia           4043\n",
      "North Carolina          4043\n",
      "North Dakota            4043\n",
      "Missouri                4043\n",
      "New York                4043\n",
      "Michigan                4043\n",
      "Kansas                  4043\n",
      "Kentucky                4043\n",
      "Louisiana               4043\n",
      "Maine                   4043\n",
      "Maryland                4043\n",
      "Massachusetts           4043\n",
      "Minnesota               4043\n",
      "New Mexico              4043\n",
      "Mississippi             4043\n",
      "Montana                 4043\n",
      "Nebraska                4043\n",
      "Nevada                  4043\n",
      "New Hampshire           4043\n",
      "New Jersey              4043\n",
      "Wyoming                 4043\n",
      "Name: count, dtype: int64\n",
      "fam_status\n",
      "married                             144906\n",
      "single                               33962\n",
      "divorced/widowed                     17640\n",
      "living with parents and siblings      9701\n",
      "Name: count, dtype: int64\n"
     ]
    }
   ],
   "source": [
    "# Validate categorical data\n",
    "print(customer_data['Gender'].value_counts())\n",
    "print(customer_data['STATE'].value_counts())\n",
    "print(customer_data['fam_status'].value_counts())\n"
   ]
  },
  {
   "cell_type": "code",
   "execution_count": 30,
   "id": "7829b928-78bc-4a01-8a31-0c84a6abc53e",
   "metadata": {},
   "outputs": [
    {
     "name": "stdout",
     "output_type": "stream",
     "text": [
      "2017-01-01 00:00:00 2020-04-01 00:00:00\n"
     ]
    }
   ],
   "source": [
    "# Check date_joined column\n",
    "print(customer_data['date_joined'].min(), customer_data['date_joined'].max())\n"
   ]
  },
  {
   "cell_type": "markdown",
   "id": "9bc8632d-faf3-4039-a9f3-90592d0040e0",
   "metadata": {},
   "source": [
    "# Save the Cleaned Data"
   ]
  },
  {
   "cell_type": "code",
   "execution_count": 32,
   "id": "50f9c1fd-f0ab-4598-9cfb-f441d9d39139",
   "metadata": {},
   "outputs": [],
   "source": [
    "import os\n",
    "\n",
    "# Set the export path\n",
    "path = '/Users/dela/Documents/15-01-2025 Instacart Basket Analysis/02 Data/Prepared Data'\n",
    "\n",
    "# Save the cleaned data as a pickle file\n",
    "customer_data.to_pickle(os.path.join(path, 'customer_data_cleaned.pkl'))\n"
   ]
  },
  {
   "cell_type": "markdown",
   "id": "258b6756-1b58-4fe6-a791-d010e8c473fb",
   "metadata": {},
   "source": [
    "# Combine Data"
   ]
  },
  {
   "cell_type": "code",
   "execution_count": 34,
   "id": "9c662b98-ab84-4c27-84ee-24a37122efca",
   "metadata": {},
   "outputs": [],
   "source": [
    "# Load Instacart data\n",
    "instacart_data = pd.read_pickle(os.path.join(path, 'ords_prods_merge_final.pkl'))\n",
    "\n",
    "# Merge datasets\n",
    "combined_data = instacart_data.merge(customer_data, on='user_id', how='left')\n",
    "\n",
    "# Save the combined data\n",
    "combined_data.to_pickle(os.path.join(path, 'instacart_customer_combined.pkl'))\n"
   ]
  },
  {
   "cell_type": "code",
   "execution_count": 36,
   "id": "447db22f-ab30-4980-91a9-f207ebe71e7d",
   "metadata": {},
   "outputs": [
    {
     "name": "stdout",
     "output_type": "stream",
     "text": [
      "<class 'pandas.core.frame.DataFrame'>\n",
      "RangeIndex: 32404289 entries, 0 to 32404288\n",
      "Data columns (total 27 columns):\n",
      " #   Column                   Dtype         \n",
      "---  ------                   -----         \n",
      " 0   order_id                 int64         \n",
      " 1   user_id                  int64         \n",
      " 2   order_number             int64         \n",
      " 3   order_day_of_week        int64         \n",
      " 4   order_hour_of_day        int64         \n",
      " 5   days_since_prior_order   float64       \n",
      " 6   product_id               object        \n",
      " 7   add_to_cart_order        int64         \n",
      " 8   reordered                int64         \n",
      " 9   product_name             object        \n",
      " 10  aisle_id                 int64         \n",
      " 11  department_id            int64         \n",
      " 12  prices                   float64       \n",
      " 13  max_order                int64         \n",
      " 14  loyalty_flag             object        \n",
      " 15  avg_spending             float64       \n",
      " 16  spending_flag            object        \n",
      " 17  median_days_since_order  float64       \n",
      " 18  frequency_flag           object        \n",
      " 19  Surname                  object        \n",
      " 20  Gender                   category      \n",
      " 21  STATE                    category      \n",
      " 22  Age                      int64         \n",
      " 23  date_joined              datetime64[ns]\n",
      " 24  n_dependants             int64         \n",
      " 25  fam_status               category      \n",
      " 26  income                   int64         \n",
      "dtypes: category(3), datetime64[ns](1), float64(4), int64(13), object(6)\n",
      "memory usage: 5.9+ GB\n",
      "None\n",
      "   order_id  user_id  order_number  order_day_of_week  order_hour_of_day  \\\n",
      "0   2539329        1             1                  2                  8   \n",
      "1   2539329        1             1                  2                  8   \n",
      "2   2539329        1             1                  2                  8   \n",
      "3   2539329        1             1                  2                  8   \n",
      "4   2539329        1             1                  2                  8   \n",
      "\n",
      "   days_since_prior_order product_id  add_to_cart_order  reordered  \\\n",
      "0                     NaN        196                  1          0   \n",
      "1                     NaN      14084                  2          0   \n",
      "2                     NaN      12427                  3          0   \n",
      "3                     NaN      26088                  4          0   \n",
      "4                     NaN      26405                  5          0   \n",
      "\n",
      "                              product_name  ...  median_days_since_order  \\\n",
      "0                                     Soda  ...                     20.5   \n",
      "1  Organic Unsweetened Vanilla Almond Milk  ...                     20.5   \n",
      "2                      Original Beef Jerky  ...                     20.5   \n",
      "3               Aged White Cheddar Popcorn  ...                     20.5   \n",
      "4         XL Pick-A-Size Paper Towel Rolls  ...                     20.5   \n",
      "\n",
      "          frequency_flag  Surname  Gender    STATE  Age date_joined  \\\n",
      "0  Non-frequent customer   Nguyen  Female  Alabama   31  2019-02-17   \n",
      "1  Non-frequent customer   Nguyen  Female  Alabama   31  2019-02-17   \n",
      "2  Non-frequent customer   Nguyen  Female  Alabama   31  2019-02-17   \n",
      "3  Non-frequent customer   Nguyen  Female  Alabama   31  2019-02-17   \n",
      "4  Non-frequent customer   Nguyen  Female  Alabama   31  2019-02-17   \n",
      "\n",
      "   n_dependants fam_status income  \n",
      "0             3    married  40423  \n",
      "1             3    married  40423  \n",
      "2             3    married  40423  \n",
      "3             3    married  40423  \n",
      "4             3    married  40423  \n",
      "\n",
      "[5 rows x 27 columns]\n"
     ]
    }
   ],
   "source": [
    "print(combined_data.info())\n",
    "print(combined_data.head())\n"
   ]
  },
  {
   "cell_type": "code",
   "execution_count": null,
   "id": "6d4c626d-4f10-4fcc-9009-c57e4aa5a4f3",
   "metadata": {},
   "outputs": [],
   "source": []
  }
 ],
 "metadata": {
  "kernelspec": {
   "display_name": "Python [conda env:base] *",
   "language": "python",
   "name": "conda-base-py"
  },
  "language_info": {
   "codemirror_mode": {
    "name": "ipython",
    "version": 3
   },
   "file_extension": ".py",
   "mimetype": "text/x-python",
   "name": "python",
   "nbconvert_exporter": "python",
   "pygments_lexer": "ipython3",
   "version": "3.12.7"
  }
 },
 "nbformat": 4,
 "nbformat_minor": 5
}
