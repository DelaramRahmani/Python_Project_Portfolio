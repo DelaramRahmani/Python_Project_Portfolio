{
 "cells": [
  {
   "cell_type": "markdown",
   "id": "43125cc3-8b70-42dc-9213-a668aa34c48c",
   "metadata": {},
   "source": [
    "# Consistency Checks on df_prods"
   ]
  },
  {
   "cell_type": "code",
   "execution_count": 1,
   "id": "79e928f3-064d-4977-96cd-4d710c3ebb39",
   "metadata": {},
   "outputs": [],
   "source": [
    "import pandas as pd\n",
    "import os\n",
    "\n",
    "# Define paths\n",
    "path = '/Users/dela/Documents/15-01-2025 Instacart Basket Analysis'\n",
    "original_data_path = os.path.join(path, '02 Data', 'Original Data')\n",
    "prepared_data_path = os.path.join(path, '02 Data', 'Prepared Data')\n",
    "\n",
    "# Import datasets\n",
    "df_prods = pd.read_csv(os.path.join(original_data_path, 'products.csv'))\n",
    "df_ords = pd.read_csv(os.path.join(prepared_data_path, 'orders_wrangled.csv'))\n"
   ]
  },
  {
   "cell_type": "markdown",
   "id": "63314430-be6d-4abc-af35-bac2c86ccc1a",
   "metadata": {},
   "source": [
    "# Mixed-Type Detection\n"
   ]
  },
  {
   "cell_type": "code",
   "execution_count": 3,
   "id": "38435324-a86f-468a-bd75-95defd842d7f",
   "metadata": {},
   "outputs": [],
   "source": [
    "df_test = pd.DataFrame()\n",
    "df_test['mix'] = ['a', 'b', 1, True]\n"
   ]
  },
  {
   "cell_type": "code",
   "execution_count": 7,
   "id": "d0596c37-18b2-4c75-9847-49900a705174",
   "metadata": {},
   "outputs": [
    {
     "name": "stdout",
     "output_type": "stream",
     "text": [
      "mix\n"
     ]
    }
   ],
   "source": [
    "for col in df_test.columns:\n",
    "    weird = (df_test[col].map(type) != type(df_test[col].iloc[0]))\n",
    "    if weird.any():\n",
    "        print(col)"
   ]
  },
  {
   "cell_type": "code",
   "execution_count": 9,
   "id": "ce8af7f0-ff3b-4be3-b1b7-6c7c442e2b9d",
   "metadata": {},
   "outputs": [],
   "source": [
    "df_test['mix'] = df_test['mix'].astype('str')"
   ]
  },
  {
   "cell_type": "markdown",
   "id": "c09331b5-d513-4f89-ae71-1bf3d541ee20",
   "metadata": {},
   "source": [
    "# Missing Values"
   ]
  },
  {
   "cell_type": "code",
   "execution_count": 11,
   "id": "0a10760c-2675-40b4-a45f-22522f46e9df",
   "metadata": {},
   "outputs": [
    {
     "data": {
      "text/plain": [
       "product_id        0\n",
       "product_name     16\n",
       "aisle_id          0\n",
       "department_id     0\n",
       "prices            0\n",
       "dtype: int64"
      ]
     },
     "execution_count": 11,
     "metadata": {},
     "output_type": "execute_result"
    }
   ],
   "source": [
    "# Detect missing values\n",
    "df_prods.isnull().sum()"
   ]
  },
  {
   "cell_type": "code",
   "execution_count": 13,
   "id": "ae749479-102d-4648-bf70-918c2cd9e894",
   "metadata": {},
   "outputs": [],
   "source": [
    "# Subset rows with missing values\n",
    "df_nan = df_prods[df_prods['product_name'].isnull()]"
   ]
  },
  {
   "cell_type": "code",
   "execution_count": 15,
   "id": "badfbf69-94b3-45f2-af66-4929cb1a8c70",
   "metadata": {},
   "outputs": [],
   "source": [
    "# Remove missing values\n",
    "df_prods_clean = df_prods[df_prods['product_name'].isnull() == False]"
   ]
  },
  {
   "cell_type": "code",
   "execution_count": 21,
   "id": "337fa496-4745-4121-9627-f768fd24fe1c",
   "metadata": {},
   "outputs": [],
   "source": [
    "# Calculate the mean of the column (replace 'prices' with the correct column name)\n",
    "mean_value = df_prods['prices'].mean()\n",
    "\n",
    "# Fill missing values in the column with the calculated mean\n",
    "df_prods['prices'] = df_prods['prices'].fillna(mean_value)\n"
   ]
  },
  {
   "cell_type": "code",
   "execution_count": 25,
   "id": "cd2d513b-bbfc-4252-8c58-e83741046282",
   "metadata": {},
   "outputs": [],
   "source": [
    "# Calculate the median of the column 'prices'\n",
    "median_value = df_prods['prices'].median()\n",
    "\n",
    "# Fill missing values in the 'prices' column with the median value\n",
    "df_prods['prices'] = df_prods['prices'].fillna(median_value)\n"
   ]
  },
  {
   "cell_type": "markdown",
   "id": "64c2870e-4365-41db-96e3-c16eeaa04597",
   "metadata": {},
   "source": [
    "# Duplicates"
   ]
  },
  {
   "cell_type": "code",
   "execution_count": 27,
   "id": "cefb2d1e-4281-49bc-89ed-bd9bdeef9d7b",
   "metadata": {},
   "outputs": [],
   "source": [
    "#detect\n",
    "df_dups = df_prods_clean[df_prods_clean.duplicated()]\n"
   ]
  },
  {
   "cell_type": "code",
   "execution_count": 29,
   "id": "a6c66ca1-1972-4e8f-a95e-730472d0365f",
   "metadata": {},
   "outputs": [],
   "source": [
    "#remove \n",
    "df_prods_clean_no_dups = df_prods_clean.drop_duplicates()\n"
   ]
  },
  {
   "cell_type": "code",
   "execution_count": 31,
   "id": "e87dcf32-d53b-4709-a23f-1d7ad450ebd0",
   "metadata": {},
   "outputs": [
    {
     "data": {
      "text/plain": [
       "(49672, 5)"
      ]
     },
     "execution_count": 31,
     "metadata": {},
     "output_type": "execute_result"
    }
   ],
   "source": [
    "#confim\n",
    "df_prods_clean_no_dups.shape\n"
   ]
  },
  {
   "cell_type": "code",
   "execution_count": 33,
   "id": "912ee683-0134-474b-9336-cc9ed009cf46",
   "metadata": {},
   "outputs": [
    {
     "name": "stdout",
     "output_type": "stream",
     "text": [
      "Cleaned dataframe exported successfully!\n"
     ]
    }
   ],
   "source": [
    "# Export the Cleaned Data\n",
    "df_prods_clean_no_dups.to_csv(os.path.join(prepared_data_path, 'products_checked.csv'), index=False)\n",
    "print(\"Cleaned dataframe exported successfully!\")\n"
   ]
  },
  {
   "cell_type": "markdown",
   "id": "f5ca996c-b865-4fe2-a8fd-36ea57db238c",
   "metadata": {},
   "source": [
    "# Consistency Checks on df_ords"
   ]
  },
  {
   "cell_type": "code",
   "execution_count": 36,
   "id": "cc2a9aab-7576-404a-8252-38dde4866cad",
   "metadata": {},
   "outputs": [],
   "source": [
    "import pandas as pd\n",
    "import os"
   ]
  },
  {
   "cell_type": "code",
   "execution_count": 38,
   "id": "2201e5e9-b700-46d8-8a45-5f9c8d83973f",
   "metadata": {},
   "outputs": [],
   "source": [
    "# Path to Prepared Data\n",
    "prepared_data_path = '/Users/dela/Documents/15-01-2025 Instacart Basket Analysis/02 Data/Prepared Data/'\n",
    "\n",
    "# Load df_ords dataframe\n",
    "df_ords = pd.read_csv(os.path.join(prepared_data_path, 'orders_wrangled.csv'))"
   ]
  },
  {
   "cell_type": "code",
   "execution_count": 46,
   "id": "4d18dca2-21a2-4816-88ac-38f97336c94b",
   "metadata": {},
   "outputs": [],
   "source": [
    "# Check for mixed-type data\n",
    "for col in df_ords.columns:\n",
    "    # Check if all the types in the column are consistent\n",
    "    mixed_data = df_ords[col].map(type).nunique() > 1\n",
    "    if mixed_data:\n",
    "        print(f\"Mixed types found in column: {col}\")\n",
    "\n",
    "#no columns contain mixed data types and this means all columns are consistent."
   ]
  },
  {
   "cell_type": "markdown",
   "id": "13845ae3-b044-478e-bd4f-4f604bbc89e8",
   "metadata": {},
   "source": [
    "# Check for Missing Values"
   ]
  },
  {
   "cell_type": "code",
   "execution_count": 48,
   "id": "f7729585-f6ee-479d-8381-ef1265a2480b",
   "metadata": {},
   "outputs": [
    {
     "data": {
      "text/plain": [
       "order_id                       0\n",
       "user_id                        0\n",
       "order_number                   0\n",
       "order_day_of_week              0\n",
       "order_hour_of_day              0\n",
       "days_since_prior_order    206209\n",
       "dtype: int64"
      ]
     },
     "execution_count": 48,
     "metadata": {},
     "output_type": "execute_result"
    }
   ],
   "source": [
    "# Check for missing values\n",
    "df_ords.isnull().sum()\n"
   ]
  },
  {
   "cell_type": "code",
   "execution_count": 54,
   "id": "c8eced91-3fe7-4511-8031-0a303b69b1ca",
   "metadata": {},
   "outputs": [],
   "source": [
    "# fill the missing values with a placeholder like 0\n",
    "df_ords['days_since_prior_order'] = df_ords['days_since_prior_order'].fillna(0)\n",
    "\n",
    "# Missing values in days_since_prior_order were filled with 0 to represent first-time orders.\n"
   ]
  },
  {
   "cell_type": "markdown",
   "id": "dbbf8680-390d-4407-919d-228dfd5c872d",
   "metadata": {},
   "source": [
    "# Check for Duplicate Rows"
   ]
  },
  {
   "cell_type": "code",
   "execution_count": 56,
   "id": "9d5252cc-33f0-4fad-baa0-2d336e2dacb1",
   "metadata": {},
   "outputs": [
    {
     "name": "stdout",
     "output_type": "stream",
     "text": [
      "Empty DataFrame\n",
      "Columns: [order_id, user_id, order_number, order_day_of_week, order_hour_of_day, days_since_prior_order]\n",
      "Index: []\n"
     ]
    }
   ],
   "source": [
    "# Find duplicates\n",
    "df_duplicates = df_ords[df_ords.duplicated()]\n",
    "\n",
    "# Print duplicates (if any)\n",
    "print(df_duplicates)\n"
   ]
  },
  {
   "cell_type": "markdown",
   "id": "6ef820b1-24f8-405f-b318-48a51bef8bfd",
   "metadata": {},
   "source": [
    "# Export the Cleaned Dataframe"
   ]
  },
  {
   "cell_type": "code",
   "execution_count": 60,
   "id": "23a6da67-cf64-4928-8ecc-82ddbf42e7a5",
   "metadata": {},
   "outputs": [
    {
     "name": "stdout",
     "output_type": "stream",
     "text": [
      "Cleaned dataframe exported successfully!\n"
     ]
    }
   ],
   "source": [
    "# Export the cleaned dataframe\n",
    "df_ords.to_csv(os.path.join(prepared_data_path, 'orders_checked.csv'), index=False)\n",
    "print(\"Cleaned dataframe exported successfully!\")\n"
   ]
  }
 ],
 "metadata": {
  "kernelspec": {
   "display_name": "Python [conda env:base] *",
   "language": "python",
   "name": "conda-base-py"
  },
  "language_info": {
   "codemirror_mode": {
    "name": "ipython",
    "version": 3
   },
   "file_extension": ".py",
   "mimetype": "text/x-python",
   "name": "python",
   "nbconvert_exporter": "python",
   "pygments_lexer": "ipython3",
   "version": "3.12.7"
  }
 },
 "nbformat": 4,
 "nbformat_minor": 5
}
