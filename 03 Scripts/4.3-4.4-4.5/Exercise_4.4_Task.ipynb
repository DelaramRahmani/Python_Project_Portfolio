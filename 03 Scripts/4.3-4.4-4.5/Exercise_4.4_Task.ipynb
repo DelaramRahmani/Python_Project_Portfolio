{
 "cells": [
  {
   "cell_type": "markdown",
   "id": "62771614-2e02-4fb7-a999-46c2c31f274e",
   "metadata": {},
   "source": [
    "# Section 1: Wrangling Procedures"
   ]
  },
  {
   "cell_type": "code",
   "execution_count": 1,
   "id": "21b97b31-0b4c-4d80-9413-7c60cee3d535",
   "metadata": {},
   "outputs": [],
   "source": [
    "import pandas as pd\n",
    "import numpy as np\n",
    "import os\n"
   ]
  },
  {
   "cell_type": "code",
   "execution_count": 3,
   "id": "13c167dd-8f11-40cd-a740-920c8edccdf1",
   "metadata": {},
   "outputs": [],
   "source": [
    "path = '/Users/dela/Documents/15-01-2025 Instacart Basket Analysis'\n"
   ]
  },
  {
   "cell_type": "code",
   "execution_count": 5,
   "id": "db8f8c42-3e06-40cf-9c6b-c9793d1a6ece",
   "metadata": {},
   "outputs": [],
   "source": [
    "# Load orders.csv\n",
    "df_ords = pd.read_csv(os.path.join(path, '02 Data', 'Original Data', 'orders.csv'))\n",
    "\n",
    "# Load products.csv\n",
    "df_prods = pd.read_csv(os.path.join(path, '02 Data', 'Original Data', 'products.csv'))\n",
    "\n",
    "# Load departments.csv\n",
    "df_dep = pd.read_csv(os.path.join(path, '02 Data', 'Original Data', '4.4_departments.csv'))\n"
   ]
  },
  {
   "cell_type": "code",
   "execution_count": 7,
   "id": "56941e93-f74f-410e-803d-8c3acb22441b",
   "metadata": {},
   "outputs": [],
   "source": [
    "# Drop the 'eval_set' column\n",
    "df_ords = df_ords.drop(columns=['eval_set'])\n"
   ]
  },
  {
   "cell_type": "code",
   "execution_count": 9,
   "id": "6d620e22-b821-49d4-b6d1-d62fbbb50364",
   "metadata": {},
   "outputs": [],
   "source": [
    "# Rename 'order_dow' to 'order_day_of_week'\n",
    "df_ords.rename(columns={'order_dow': 'order_day_of_week'}, inplace=True)\n"
   ]
  },
  {
   "cell_type": "code",
   "execution_count": 11,
   "id": "9e0aadb4-b73c-4cb0-8737-e9ab646bb203",
   "metadata": {},
   "outputs": [],
   "source": [
    "# Convert 'order_id' to string\n",
    "df_ords['order_id'] = df_ords['order_id'].astype('str')\n"
   ]
  },
  {
   "cell_type": "code",
   "execution_count": 13,
   "id": "264a8e7c-11ee-432b-924e-4a667fc3e911",
   "metadata": {},
   "outputs": [],
   "source": [
    "# Transpose the departments dataframe\n",
    "df_dep_t = df_dep.T\n",
    "\n",
    "# Set the first row as the new header\n",
    "new_header = df_dep_t.iloc[0]\n",
    "df_dep_t_new = df_dep_t[1:]\n",
    "df_dep_t_new.columns = new_header\n"
   ]
  },
  {
   "cell_type": "code",
   "execution_count": 15,
   "id": "e04e8030-e4e9-4fd0-b7b2-ffc9d80a28e4",
   "metadata": {},
   "outputs": [],
   "source": [
    "# Convert the departments dataframe to a dictionary\n",
    "data_dict = df_dep_t_new.to_dict('index')\n"
   ]
  },
  {
   "cell_type": "markdown",
   "id": "d6e0acdb-c605-4d79-97e4-2f70600f458f",
   "metadata": {},
   "source": [
    "# Section 2: Task-Specific Steps\n"
   ]
  },
  {
   "cell_type": "markdown",
   "id": "64b6a206-efb6-4f95-8cb4-5ff40d3158dc",
   "metadata": {},
   "source": [
    "## Step 2: Identify and Convert a Numeric Identifier"
   ]
  },
  {
   "cell_type": "code",
   "execution_count": 17,
   "id": "4247bfe4-62f4-4e53-930d-eff1b1d60d75",
   "metadata": {},
   "outputs": [],
   "source": [
    "# Convert 'order_id' to string\n",
    "df_ords['order_id'] = df_ords['order_id'].astype('str')\n"
   ]
  },
  {
   "cell_type": "markdown",
   "id": "116e08ff-3722-41ff-bc6a-b3162407b9cf",
   "metadata": {},
   "source": [
    "## Step 3: Rename an Unintuitive Column"
   ]
  },
  {
   "cell_type": "code",
   "execution_count": 19,
   "id": "21f344d9-eda3-4269-b5e9-834dc9acb62a",
   "metadata": {},
   "outputs": [],
   "source": [
    "# Rename 'order_dow' to 'order_day_of_week'\n",
    "df_ords_renamed = df_ords.rename(columns={'order_dow': 'order_day_of_week'})\n"
   ]
  },
  {
   "cell_type": "markdown",
   "id": "2f8613d1-3c77-46b0-acd9-743b9ee0ed5c",
   "metadata": {},
   "source": [
    "## Step 4: Identify the Busiest Hour for Orders"
   ]
  },
  {
   "cell_type": "code",
   "execution_count": 21,
   "id": "7b890623-c4f4-40f8-8e37-0f9eb00ce766",
   "metadata": {},
   "outputs": [
    {
     "name": "stdout",
     "output_type": "stream",
     "text": [
      "The busiest hour for orders is 10 with 288418 orders.\n"
     ]
    }
   ],
   "source": [
    "# Find the frequency of each hour\n",
    "hourly_orders = df_ords['order_hour_of_day'].value_counts()\n",
    "\n",
    "# Identify the busiest hour and its frequency\n",
    "busiest_hour = hourly_orders.idxmax()\n",
    "busiest_hour_frequency = hourly_orders.max()\n",
    "\n",
    "print(f\"The busiest hour for orders is {busiest_hour} with {busiest_hour_frequency} orders.\")\n"
   ]
  },
  {
   "cell_type": "markdown",
   "id": "07e99fe7-6771-4f44-a4e8-b4caa401d356",
   "metadata": {},
   "source": [
    "## Step 5: Use Data Dictionary to Find Meaning of department_id = 4"
   ]
  },
  {
   "cell_type": "code",
   "execution_count": 23,
   "id": "834a892b-491f-4e5f-bbbe-6aa67657b55d",
   "metadata": {},
   "outputs": [
    {
     "name": "stdout",
     "output_type": "stream",
     "text": [
      "Department 4 refers to: produce\n"
     ]
    }
   ],
   "source": [
    "# Find the meaning of department_id 4\n",
    "department_4 = data_dict.get('4', {}).get('department', 'Unknown')\n",
    "print(f\"Department 4 refers to: {department_4}\")\n"
   ]
  },
  {
   "cell_type": "markdown",
   "id": "a09c04cf-19fb-4f06-aa62-b9f55872a375",
   "metadata": {},
   "source": [
    "## Step 6: Create a Subset for Breakfast Items"
   ]
  },
  {
   "cell_type": "code",
   "execution_count": 25,
   "id": "8a163829-6122-4c63-b4d9-779d77b59318",
   "metadata": {},
   "outputs": [
    {
     "data": {
      "text/html": [
       "<div>\n",
       "<style scoped>\n",
       "    .dataframe tbody tr th:only-of-type {\n",
       "        vertical-align: middle;\n",
       "    }\n",
       "\n",
       "    .dataframe tbody tr th {\n",
       "        vertical-align: top;\n",
       "    }\n",
       "\n",
       "    .dataframe thead th {\n",
       "        text-align: right;\n",
       "    }\n",
       "</style>\n",
       "<table border=\"1\" class=\"dataframe\">\n",
       "  <thead>\n",
       "    <tr style=\"text-align: right;\">\n",
       "      <th></th>\n",
       "      <th>product_id</th>\n",
       "      <th>product_name</th>\n",
       "      <th>aisle_id</th>\n",
       "      <th>department_id</th>\n",
       "      <th>prices</th>\n",
       "    </tr>\n",
       "  </thead>\n",
       "  <tbody>\n",
       "    <tr>\n",
       "      <th>30</th>\n",
       "      <td>31</td>\n",
       "      <td>White Pearl Onions</td>\n",
       "      <td>123</td>\n",
       "      <td>4</td>\n",
       "      <td>7.5</td>\n",
       "    </tr>\n",
       "    <tr>\n",
       "      <th>42</th>\n",
       "      <td>43</td>\n",
       "      <td>Organic Clementines</td>\n",
       "      <td>123</td>\n",
       "      <td>4</td>\n",
       "      <td>11.5</td>\n",
       "    </tr>\n",
       "    <tr>\n",
       "      <th>44</th>\n",
       "      <td>45</td>\n",
       "      <td>European Cucumber</td>\n",
       "      <td>83</td>\n",
       "      <td>4</td>\n",
       "      <td>14.3</td>\n",
       "    </tr>\n",
       "    <tr>\n",
       "      <th>65</th>\n",
       "      <td>66</td>\n",
       "      <td>European Style Spring Mix</td>\n",
       "      <td>123</td>\n",
       "      <td>4</td>\n",
       "      <td>11.7</td>\n",
       "    </tr>\n",
       "    <tr>\n",
       "      <th>88</th>\n",
       "      <td>89</td>\n",
       "      <td>Yogurt Fruit Dip Sliced Apples</td>\n",
       "      <td>123</td>\n",
       "      <td>4</td>\n",
       "      <td>12.6</td>\n",
       "    </tr>\n",
       "  </tbody>\n",
       "</table>\n",
       "</div>"
      ],
      "text/plain": [
       "    product_id                    product_name  aisle_id  department_id  \\\n",
       "30          31              White Pearl Onions       123              4   \n",
       "42          43             Organic Clementines       123              4   \n",
       "44          45               European Cucumber        83              4   \n",
       "65          66       European Style Spring Mix       123              4   \n",
       "88          89  Yogurt Fruit Dip Sliced Apples       123              4   \n",
       "\n",
       "    prices  \n",
       "30     7.5  \n",
       "42    11.5  \n",
       "44    14.3  \n",
       "65    11.7  \n",
       "88    12.6  "
      ]
     },
     "execution_count": 25,
     "metadata": {},
     "output_type": "execute_result"
    }
   ],
   "source": [
    "# Subset for breakfast department\n",
    "df_breakfast = df_prods[df_prods['department_id'] == 4]\n",
    "\n",
    "# Check the first few rows of the subset\n",
    "df_breakfast.head()\n"
   ]
  },
  {
   "cell_type": "markdown",
   "id": "4029c62d-0f72-407b-bd85-2765446d03d8",
   "metadata": {},
   "source": [
    "## Step 7: Create a Subset for Dinner Party Items"
   ]
  },
  {
   "cell_type": "code",
   "execution_count": 27,
   "id": "79830ea7-d8cc-45c6-867b-05654925f280",
   "metadata": {},
   "outputs": [
    {
     "data": {
      "text/html": [
       "<div>\n",
       "<style scoped>\n",
       "    .dataframe tbody tr th:only-of-type {\n",
       "        vertical-align: middle;\n",
       "    }\n",
       "\n",
       "    .dataframe tbody tr th {\n",
       "        vertical-align: top;\n",
       "    }\n",
       "\n",
       "    .dataframe thead th {\n",
       "        text-align: right;\n",
       "    }\n",
       "</style>\n",
       "<table border=\"1\" class=\"dataframe\">\n",
       "  <thead>\n",
       "    <tr style=\"text-align: right;\">\n",
       "      <th></th>\n",
       "      <th>product_id</th>\n",
       "      <th>product_name</th>\n",
       "      <th>aisle_id</th>\n",
       "      <th>department_id</th>\n",
       "      <th>prices</th>\n",
       "    </tr>\n",
       "  </thead>\n",
       "  <tbody>\n",
       "  </tbody>\n",
       "</table>\n",
       "</div>"
      ],
      "text/plain": [
       "Empty DataFrame\n",
       "Columns: [product_id, product_name, aisle_id, department_id, prices]\n",
       "Index: []"
      ]
     },
     "execution_count": 27,
     "metadata": {},
     "output_type": "execute_result"
    }
   ],
   "source": [
    "# Define the target departments\n",
    "target_departments = ['alcohol', 'deli', 'beverages', 'meat/seafood']\n",
    "\n",
    "# Get department_ids for the target departments\n",
    "target_ids = [key for key, value in data_dict.items() if value.get('department') in target_departments]\n",
    "\n",
    "# Subset for dinner party items\n",
    "df_dinner_party = df_prods[df_prods['department_id'].isin(target_ids)]\n",
    "\n",
    "# Check the first few rows of the subset\n",
    "df_dinner_party.head()\n"
   ]
  },
  {
   "cell_type": "markdown",
   "id": "f129ed3e-cb8d-4b81-9122-9da7adb99692",
   "metadata": {},
   "source": [
    "## Step 8: Count Rows in the Last Subset"
   ]
  },
  {
   "cell_type": "code",
   "execution_count": 29,
   "id": "8d4b6ad9-f9ef-49a8-8386-e26a77b5e61a",
   "metadata": {},
   "outputs": [
    {
     "name": "stdout",
     "output_type": "stream",
     "text": [
      "The dinner party subset contains 0 rows.\n"
     ]
    }
   ],
   "source": [
    "# Count the total rows in the dinner party subset\n",
    "total_rows = df_dinner_party.shape[0]\n",
    "print(f\"The dinner party subset contains {total_rows} rows.\")\n"
   ]
  },
  {
   "cell_type": "markdown",
   "id": "a22c138a-ff93-49dc-8de0-da6254d9b5ee",
   "metadata": {},
   "source": [
    "## Step 9: Extract Information for user_id = 1"
   ]
  },
  {
   "cell_type": "code",
   "execution_count": 31,
   "id": "471a09ca-ba2b-4d55-868b-ef87adf3c726",
   "metadata": {},
   "outputs": [
    {
     "data": {
      "text/html": [
       "<div>\n",
       "<style scoped>\n",
       "    .dataframe tbody tr th:only-of-type {\n",
       "        vertical-align: middle;\n",
       "    }\n",
       "\n",
       "    .dataframe tbody tr th {\n",
       "        vertical-align: top;\n",
       "    }\n",
       "\n",
       "    .dataframe thead th {\n",
       "        text-align: right;\n",
       "    }\n",
       "</style>\n",
       "<table border=\"1\" class=\"dataframe\">\n",
       "  <thead>\n",
       "    <tr style=\"text-align: right;\">\n",
       "      <th></th>\n",
       "      <th>order_id</th>\n",
       "      <th>user_id</th>\n",
       "      <th>order_number</th>\n",
       "      <th>order_day_of_week</th>\n",
       "      <th>order_hour_of_day</th>\n",
       "      <th>days_since_prior_order</th>\n",
       "    </tr>\n",
       "  </thead>\n",
       "  <tbody>\n",
       "    <tr>\n",
       "      <th>0</th>\n",
       "      <td>2539329</td>\n",
       "      <td>1</td>\n",
       "      <td>1</td>\n",
       "      <td>2</td>\n",
       "      <td>8</td>\n",
       "      <td>NaN</td>\n",
       "    </tr>\n",
       "    <tr>\n",
       "      <th>1</th>\n",
       "      <td>2398795</td>\n",
       "      <td>1</td>\n",
       "      <td>2</td>\n",
       "      <td>3</td>\n",
       "      <td>7</td>\n",
       "      <td>15.0</td>\n",
       "    </tr>\n",
       "    <tr>\n",
       "      <th>2</th>\n",
       "      <td>473747</td>\n",
       "      <td>1</td>\n",
       "      <td>3</td>\n",
       "      <td>3</td>\n",
       "      <td>12</td>\n",
       "      <td>21.0</td>\n",
       "    </tr>\n",
       "    <tr>\n",
       "      <th>3</th>\n",
       "      <td>2254736</td>\n",
       "      <td>1</td>\n",
       "      <td>4</td>\n",
       "      <td>4</td>\n",
       "      <td>7</td>\n",
       "      <td>29.0</td>\n",
       "    </tr>\n",
       "    <tr>\n",
       "      <th>4</th>\n",
       "      <td>431534</td>\n",
       "      <td>1</td>\n",
       "      <td>5</td>\n",
       "      <td>4</td>\n",
       "      <td>15</td>\n",
       "      <td>28.0</td>\n",
       "    </tr>\n",
       "    <tr>\n",
       "      <th>5</th>\n",
       "      <td>3367565</td>\n",
       "      <td>1</td>\n",
       "      <td>6</td>\n",
       "      <td>2</td>\n",
       "      <td>7</td>\n",
       "      <td>19.0</td>\n",
       "    </tr>\n",
       "    <tr>\n",
       "      <th>6</th>\n",
       "      <td>550135</td>\n",
       "      <td>1</td>\n",
       "      <td>7</td>\n",
       "      <td>1</td>\n",
       "      <td>9</td>\n",
       "      <td>20.0</td>\n",
       "    </tr>\n",
       "    <tr>\n",
       "      <th>7</th>\n",
       "      <td>3108588</td>\n",
       "      <td>1</td>\n",
       "      <td>8</td>\n",
       "      <td>1</td>\n",
       "      <td>14</td>\n",
       "      <td>14.0</td>\n",
       "    </tr>\n",
       "    <tr>\n",
       "      <th>8</th>\n",
       "      <td>2295261</td>\n",
       "      <td>1</td>\n",
       "      <td>9</td>\n",
       "      <td>1</td>\n",
       "      <td>16</td>\n",
       "      <td>0.0</td>\n",
       "    </tr>\n",
       "    <tr>\n",
       "      <th>9</th>\n",
       "      <td>2550362</td>\n",
       "      <td>1</td>\n",
       "      <td>10</td>\n",
       "      <td>4</td>\n",
       "      <td>8</td>\n",
       "      <td>30.0</td>\n",
       "    </tr>\n",
       "    <tr>\n",
       "      <th>10</th>\n",
       "      <td>1187899</td>\n",
       "      <td>1</td>\n",
       "      <td>11</td>\n",
       "      <td>4</td>\n",
       "      <td>8</td>\n",
       "      <td>14.0</td>\n",
       "    </tr>\n",
       "  </tbody>\n",
       "</table>\n",
       "</div>"
      ],
      "text/plain": [
       "   order_id  user_id  order_number  order_day_of_week  order_hour_of_day  \\\n",
       "0   2539329        1             1                  2                  8   \n",
       "1   2398795        1             2                  3                  7   \n",
       "2    473747        1             3                  3                 12   \n",
       "3   2254736        1             4                  4                  7   \n",
       "4    431534        1             5                  4                 15   \n",
       "5   3367565        1             6                  2                  7   \n",
       "6    550135        1             7                  1                  9   \n",
       "7   3108588        1             8                  1                 14   \n",
       "8   2295261        1             9                  1                 16   \n",
       "9   2550362        1            10                  4                  8   \n",
       "10  1187899        1            11                  4                  8   \n",
       "\n",
       "    days_since_prior_order  \n",
       "0                      NaN  \n",
       "1                     15.0  \n",
       "2                     21.0  \n",
       "3                     29.0  \n",
       "4                     28.0  \n",
       "5                     19.0  \n",
       "6                     20.0  \n",
       "7                     14.0  \n",
       "8                      0.0  \n",
       "9                     30.0  \n",
       "10                    14.0  "
      ]
     },
     "execution_count": 31,
     "metadata": {},
     "output_type": "execute_result"
    }
   ],
   "source": [
    "# Subset for user_id = 1\n",
    "df_user_1 = df_ords[df_ords['user_id'] == 1]\n",
    "\n",
    "# Display all information for this user\n",
    "df_user_1"
   ]
  },
  {
   "cell_type": "markdown",
   "id": "13389e3b-f40b-447c-8766-bc01455dfde0",
   "metadata": {},
   "source": [
    "## Step 10: Provide Basic Stats About User Behavior"
   ]
  },
  {
   "cell_type": "code",
   "execution_count": 33,
   "id": "1641eacb-1be8-4998-a416-1265b2cfb4d7",
   "metadata": {},
   "outputs": [
    {
     "name": "stdout",
     "output_type": "stream",
     "text": [
      "User 1 has placed a total of 11 orders.\n",
      "The busiest hour for User 1's orders is 8.\n",
      "The most common day for User 1's orders is 4.\n"
     ]
    }
   ],
   "source": [
    "# Basic statistics for user_id = 1\n",
    "total_orders = df_user_1.shape[0]\n",
    "busiest_order_hour = df_user_1['order_hour_of_day'].value_counts().idxmax()\n",
    "most_common_day = df_user_1['order_day_of_week'].value_counts().idxmax()\n",
    "\n",
    "print(f\"User 1 has placed a total of {total_orders} orders.\")\n",
    "print(f\"The busiest hour for User 1's orders is {busiest_order_hour}.\")\n",
    "print(f\"The most common day for User 1's orders is {most_common_day}.\")\n"
   ]
  },
  {
   "cell_type": "markdown",
   "id": "4978c12c-cbbe-4ecb-a5c7-52d364a2a1f9",
   "metadata": {},
   "source": [
    "## Step 12: Export df_ords"
   ]
  },
  {
   "cell_type": "code",
   "execution_count": 35,
   "id": "2c2e32ee-f8c2-4e83-91d2-8dcdb899d5f1",
   "metadata": {},
   "outputs": [
    {
     "name": "stdout",
     "output_type": "stream",
     "text": [
      "df_ords exported as 'orders_wrangled.csv'.\n"
     ]
    }
   ],
   "source": [
    "# Export df_ords\n",
    "df_ords.to_csv(os.path.join(path, '02 Data', 'Prepared Data', 'orders_wrangled.csv'), index=False)\n",
    "print(\"df_ords exported as 'orders_wrangled.csv'.\")\n"
   ]
  },
  {
   "cell_type": "markdown",
   "id": "fe628253-2bb2-4c49-afa3-764c7f170055",
   "metadata": {},
   "source": [
    "## Step 13: Export df_dep_t_new"
   ]
  },
  {
   "cell_type": "code",
   "execution_count": 37,
   "id": "2f4f80b6-5073-4cd7-8e01-4944639e624d",
   "metadata": {},
   "outputs": [
    {
     "name": "stdout",
     "output_type": "stream",
     "text": [
      "df_dep_t_new exported as 'departments_wrangled.csv'.\n"
     ]
    }
   ],
   "source": [
    "# Export df_dep_t_new\n",
    "df_dep_t_new.to_csv(os.path.join(path, '02 Data', 'Prepared Data', 'departments_wrangled.csv'), index=False)\n",
    "print(\"df_dep_t_new exported as 'departments_wrangled.csv'.\")\n"
   ]
  },
  {
   "cell_type": "code",
   "execution_count": null,
   "id": "dd87ef16-f0ba-41c0-b282-7a2d26c3feab",
   "metadata": {},
   "outputs": [],
   "source": []
  }
 ],
 "metadata": {
  "kernelspec": {
   "display_name": "Python [conda env:base] *",
   "language": "python",
   "name": "conda-base-py"
  },
  "language_info": {
   "codemirror_mode": {
    "name": "ipython",
    "version": 3
   },
   "file_extension": ".py",
   "mimetype": "text/x-python",
   "name": "python",
   "nbconvert_exporter": "python",
   "pygments_lexer": "ipython3",
   "version": "3.12.7"
  }
 },
 "nbformat": 4,
 "nbformat_minor": 5
}
