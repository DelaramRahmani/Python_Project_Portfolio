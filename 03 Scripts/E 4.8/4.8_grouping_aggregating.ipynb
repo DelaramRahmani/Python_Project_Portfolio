{
 "cells": [
  {
   "cell_type": "markdown",
   "id": "ee076416-da00-491c-890b-06d3c361ad4b",
   "metadata": {},
   "source": [
    "# Step 1: Notebook Setup"
   ]
  },
  {
   "cell_type": "code",
   "execution_count": 14,
   "id": "6b4e9ce5-39a3-4208-b24b-7e233c636977",
   "metadata": {},
   "outputs": [
    {
     "name": "stdout",
     "output_type": "stream",
     "text": [
      "   order_id  user_id  order_number  order_day_of_week  order_hour_of_day  \\\n",
      "0   2539329        1             1                  2                  8   \n",
      "1   2539329        1             1                  2                  8   \n",
      "2   2539329        1             1                  2                  8   \n",
      "3   2539329        1             1                  2                  8   \n",
      "4   2539329        1             1                  2                  8   \n",
      "\n",
      "   days_since_prior_order product_id  add_to_cart_order  reordered  \\\n",
      "0                     NaN        196                  1          0   \n",
      "1                     NaN      14084                  2          0   \n",
      "2                     NaN      12427                  3          0   \n",
      "3                     NaN      26088                  4          0   \n",
      "4                     NaN      26405                  5          0   \n",
      "\n",
      "                              product_name  aisle_id  department_id  prices  \n",
      "0                                     Soda        77              7     9.0  \n",
      "1  Organic Unsweetened Vanilla Almond Milk        91             16    12.5  \n",
      "2                      Original Beef Jerky        23             19     4.4  \n",
      "3               Aged White Cheddar Popcorn        23             19     4.7  \n",
      "4         XL Pick-A-Size Paper Towel Rolls        54             17     1.0  \n",
      "(32404289, 13)\n"
     ]
    }
   ],
   "source": [
    "# Import libraries\n",
    "import pandas as pd\n",
    "import numpy as np\n",
    "\n",
    "# Load the main dataframe\n",
    "data_path = '/Users/dela/Documents/15-01-2025 Instacart Basket Analysis/02 Data/Prepared Data/ords_prods_merge.pkl'\n",
    "ords_prods_merge = pd.read_pickle(data_path)\n",
    "\n",
    "# Check the dataframe\n",
    "print(ords_prods_merge.head())\n",
    "print(ords_prods_merge.shape)\n"
   ]
  },
  {
   "cell_type": "markdown",
   "id": "71497bd2-4858-42eb-aa03-2514abeba274",
   "metadata": {},
   "source": [
    "# Step 2: Aggregating Data"
   ]
  },
  {
   "cell_type": "code",
   "execution_count": 16,
   "id": "51a1b8f0-c84d-45bf-ac65-5f9a708c5e92",
   "metadata": {},
   "outputs": [
    {
     "name": "stdout",
     "output_type": "stream",
     "text": [
      "               order_number\n",
      "department_id              \n",
      "1                 15.457838\n",
      "2                 17.277920\n",
      "3                 17.170395\n",
      "4                 17.811403\n",
      "5                 15.215751\n",
      "6                 16.439806\n",
      "7                 17.225802\n",
      "8                 15.340650\n",
      "9                 15.895474\n",
      "10                20.197148\n",
      "11                16.170638\n",
      "12                15.887671\n",
      "13                16.583536\n",
      "14                16.773669\n",
      "15                16.165037\n",
      "16                17.666284\n",
      "17                15.694469\n",
      "18                19.310514\n",
      "19                17.177343\n",
      "20                16.473447\n",
      "21                22.902379\n"
     ]
    }
   ],
   "source": [
    "# Group and calculate the mean of \"order_number\" by \"department_id\"\n",
    "department_means = ords_prods_merge.groupby('department_id').agg({'order_number': 'mean'})\n",
    "\n",
    "# Display the results\n",
    "print(department_means)\n"
   ]
  },
  {
   "cell_type": "code",
   "execution_count": 18,
   "id": "901847e4-9a07-4085-9be2-ae55c2a32d83",
   "metadata": {},
   "outputs": [],
   "source": [
    "# Save as a new dataframe for further analysis\n",
    "department_means_df = department_means.reset_index()\n"
   ]
  },
  {
   "cell_type": "markdown",
   "id": "dff5d706-29ff-43d8-8b6b-5c236c996ecc",
   "metadata": {},
   "source": [
    "# Step 3: Analysis of Aggregation"
   ]
  },
  {
   "cell_type": "code",
   "execution_count": 20,
   "id": "d2795e09-a25a-43bc-b7d7-1a1a8089138d",
   "metadata": {},
   "outputs": [
    {
     "name": "stdout",
     "output_type": "stream",
     "text": [
      "               order_number\n",
      "department_id              \n",
      "1                 14.799835\n",
      "2                 17.091743\n",
      "3                 17.913113\n",
      "4                 17.892927\n",
      "5                 15.214270\n",
      "6                 15.382135\n",
      "7                 17.694027\n",
      "8                 16.458105\n",
      "9                 15.957363\n",
      "10                20.091818\n",
      "11                16.482026\n",
      "12                15.615061\n",
      "13                16.483771\n",
      "14                17.524632\n",
      "15                15.691875\n",
      "16                18.014473\n",
      "17                16.148899\n",
      "18                19.602850\n",
      "19                17.631171\n",
      "20                17.138607\n",
      "21                21.956893\n"
     ]
    }
   ],
   "source": [
    "# Analyze the subset's \"department_id\" grouping (use earlier subset code if applicable)\n",
    "subset_means = df.groupby('department_id').agg({'order_number': 'mean'})\n",
    "print(subset_means)\n"
   ]
  },
  {
   "cell_type": "markdown",
   "id": "fb3d65d5-ef25-46a4-8022-40a263accdd2",
   "metadata": {},
   "source": [
    "### Observations\n",
    "- The mean values for the entire dataframe provide more reliable insights since they include all data points.\n",
    "- Department 4 (Produce) has the highest average order count, while Department 17 (Household) has one of the lowest averages.\n"
   ]
  },
  {
   "cell_type": "markdown",
   "id": "50bc9df7-009b-4a03-bf1d-1b2ade0f2ac8",
   "metadata": {},
   "source": [
    "# Step 4.1: Add a max_order column"
   ]
  },
  {
   "cell_type": "code",
   "execution_count": 25,
   "id": "3e11db73-183d-4db3-b14d-12de557c324a",
   "metadata": {},
   "outputs": [],
   "source": [
    "# Add the \"max_order\" column using the string \"max\" instead of np.max\n",
    "ords_prods_merge['max_order'] = ords_prods_merge.groupby('user_id')['order_number'].transform(\"max\")\n"
   ]
  },
  {
   "cell_type": "markdown",
   "id": "97df9529-4e7f-42e7-ae83-0086628be6ae",
   "metadata": {},
   "source": [
    "# Step 4.2: Create the loyalty_flag column"
   ]
  },
  {
   "cell_type": "code",
   "execution_count": 27,
   "id": "ee413ede-9503-4761-b619-978c498976f3",
   "metadata": {},
   "outputs": [],
   "source": [
    "# Add the \"loyalty_flag\" column\n",
    "ords_prods_merge.loc[ords_prods_merge['max_order'] > 40, 'loyalty_flag'] = 'Loyal customer'\n",
    "ords_prods_merge.loc[(ords_prods_merge['max_order'] <= 40) & (ords_prods_merge['max_order'] > 10), 'loyalty_flag'] = 'Regular customer'\n",
    "ords_prods_merge.loc[ords_prods_merge['max_order'] <= 10, 'loyalty_flag'] = 'New customer'\n"
   ]
  },
  {
   "cell_type": "markdown",
   "id": "2424db4f-ab77-4356-9f53-b56cc76c455e",
   "metadata": {},
   "source": [
    "# Step 4.3: Check the results"
   ]
  },
  {
   "cell_type": "code",
   "execution_count": 29,
   "id": "78de9e15-53a6-496a-95a4-40614b90e70f",
   "metadata": {},
   "outputs": [
    {
     "name": "stdout",
     "output_type": "stream",
     "text": [
      "loyalty_flag\n",
      "Regular customer    15876441\n",
      "Loyal customer      10284025\n",
      "New customer         6243823\n",
      "Name: count, dtype: int64\n"
     ]
    }
   ],
   "source": [
    "# Check the frequency of loyalty flags\n",
    "print(ords_prods_merge['loyalty_flag'].value_counts())\n"
   ]
  },
  {
   "cell_type": "code",
   "execution_count": 31,
   "id": "e43ad1db-1106-4175-afb2-08da7668a0e2",
   "metadata": {},
   "outputs": [],
   "source": [
    "# Export the updated dataframe\n",
    "export_path = '/Users/dela/Documents/15-01-2025 Instacart Basket Analysis/02 Data/Prepared Data/ords_prods_merge_updated.pkl'\n",
    "ords_prods_merge.to_pickle(export_path)\n"
   ]
  },
  {
   "cell_type": "markdown",
   "id": "1e41d3e9-eaaa-4509-82cd-daef22452aff",
   "metadata": {},
   "source": [
    "# Step 5: Compare Spending Habits Based on Loyalty Flag"
   ]
  },
  {
   "cell_type": "code",
   "execution_count": 33,
   "id": "fd0c2997-6df2-4f92-ab86-920315537b80",
   "metadata": {},
   "outputs": [
    {
     "name": "stdout",
     "output_type": "stream",
     "text": [
      "                     prices                     \n",
      "                       mean median  min      max\n",
      "loyalty_flag                                    \n",
      "Loyal customer    10.386384    7.4  1.0  99999.0\n",
      "New customer      13.294943    7.4  1.0  99999.0\n",
      "Regular customer  12.495916    7.4  1.0  99999.0\n"
     ]
    }
   ],
   "source": [
    "loyalty_spending = ords_prods_merge.groupby('loyalty_flag').agg({'prices': ['mean', 'median', 'min', 'max']})\n",
    "print(loyalty_spending)\n"
   ]
  },
  {
   "cell_type": "markdown",
   "id": "d023012c-d614-4d37-8f53-5b800a19fa27",
   "metadata": {},
   "source": [
    "## Mean Spending:\n",
    "\n",
    "Loyal Customers: €10.39 (lowest average spending).\n",
    "New Customers: €13.29 (highest average spending).\n",
    "Regular Customers: €12.50 (mid-range spending).\n",
    "Median Prices:\n",
    "\n",
    "Uniform at €7.40 across all groups, indicating the majority of purchases are similarly priced.\n",
    "Minimum Prices:\n",
    "\n",
    "€1.00 for all groups, showing purchases of low-cost items are common.\n",
    "Maximum Prices:\n",
    "\n",
    "€99,999.00 across all groups, likely due to outliers or luxury items.\n",
    "Insights:\n",
    "\n",
    "New customers spend the most on average, possibly exploring higher-priced products.\n",
    "Loyal customers spend the least, suggesting familiarity with affordable products or consistent purchases of budget-friendly items.\n",
    "Regular customers exhibit mid-range spending behavior."
   ]
  },
  {
   "cell_type": "markdown",
   "id": "c0bb9967-c679-478d-bce8-f771c5ae1234",
   "metadata": {},
   "source": [
    "# Step 6: Create Spending Flags for Users\n"
   ]
  },
  {
   "cell_type": "code",
   "execution_count": 36,
   "id": "79390d60-24fe-4439-839b-a1f1794b92cb",
   "metadata": {},
   "outputs": [],
   "source": [
    "ords_prods_merge['avg_spending'] = ords_prods_merge.groupby('user_id')['prices'].transform('mean')\n"
   ]
  },
  {
   "cell_type": "code",
   "execution_count": 38,
   "id": "fe68b52d-1628-460c-968f-64db5eba531c",
   "metadata": {},
   "outputs": [],
   "source": [
    "ords_prods_merge.loc[ords_prods_merge['avg_spending'] < 10, 'spending_flag'] = 'Low spender'\n",
    "ords_prods_merge.loc[ords_prods_merge['avg_spending'] >= 10, 'spending_flag'] = 'High spender'\n"
   ]
  },
  {
   "cell_type": "code",
   "execution_count": 40,
   "id": "a55c71d7-d518-41bc-a133-390319ef8688",
   "metadata": {},
   "outputs": [
    {
     "name": "stdout",
     "output_type": "stream",
     "text": [
      "spending_flag\n",
      "Low spender     31770062\n",
      "High spender      634227\n",
      "Name: count, dtype: int64\n"
     ]
    }
   ],
   "source": [
    "print(ords_prods_merge['spending_flag'].value_counts())\n"
   ]
  },
  {
   "cell_type": "markdown",
   "id": "cecefa40-a73a-45ea-ad74-66c7c22a88fe",
   "metadata": {},
   "source": [
    "## Proportions of Spend Categories:\n",
    "Low Spenders: 3,177,062 users (approximately 83.37%).\n",
    "High Spenders: 634,227 users (approximately 16.63%).\n",
    "Observations:\n",
    "\n",
    "The vast majority of users fall under the \"Low Spender\" category, indicating a tendency toward more budget-friendly or smaller purchases.\n",
    "A smaller proportion of users are categorized as \"High Spenders,\" possibly representing a niche group that purchases higher-priced or premium products frequently.\n",
    "This segmentation could help the marketing team in tailoring strategies for both groups, such as offering loyalty rewards for high spenders or promoting deals to encourage higher spending among low spenders."
   ]
  },
  {
   "cell_type": "markdown",
   "id": "834aaa55-f5d1-4da8-96d9-2899fca6f057",
   "metadata": {},
   "source": [
    "# Step 7: Create Order Frequency Flags"
   ]
  },
  {
   "cell_type": "code",
   "execution_count": 43,
   "id": "6a51d888-e710-4dd6-82e5-970c2e498be1",
   "metadata": {},
   "outputs": [],
   "source": [
    "ords_prods_merge['median_days_since_order'] = ords_prods_merge.groupby('user_id')['days_since_prior_order'].transform('median')\n"
   ]
  },
  {
   "cell_type": "code",
   "execution_count": 45,
   "id": "2b3dace0-5184-45fe-8c73-255c0158e551",
   "metadata": {},
   "outputs": [],
   "source": [
    "ords_prods_merge.loc[ords_prods_merge['median_days_since_order'] > 20, 'frequency_flag'] = 'Non-frequent customer'\n",
    "ords_prods_merge.loc[(ords_prods_merge['median_days_since_order'] > 10) & (ords_prods_merge['median_days_since_order'] <= 20), 'frequency_flag'] = 'Regular customer'\n",
    "ords_prods_merge.loc[ords_prods_merge['median_days_since_order'] <= 10, 'frequency_flag'] = 'Frequent customer'\n"
   ]
  },
  {
   "cell_type": "code",
   "execution_count": 47,
   "id": "fa1ca3b7-b655-4960-ba1a-7baaefa6f692",
   "metadata": {},
   "outputs": [
    {
     "name": "stdout",
     "output_type": "stream",
     "text": [
      "frequency_flag\n",
      "Frequent customer        21559233\n",
      "Regular customer          7208688\n",
      "Non-frequent customer     3636363\n",
      "Name: count, dtype: int64\n"
     ]
    }
   ],
   "source": [
    "print(ords_prods_merge['frequency_flag'].value_counts())\n"
   ]
  },
  {
   "cell_type": "markdown",
   "id": "48229e1f-b4c7-45c3-a983-da8bdfbd3c79",
   "metadata": {},
   "source": [
    "## Proportions of Frequency Categories:\n",
    "Frequent Customers: 21,559,233 users (approximately 73.78%).\n",
    "Regular Customers: 7,208,688 users (approximately 24.68%).\n",
    "Non-Frequent Customers: 363,363 users (approximately 1.24%).\n",
    "Observations:\n",
    "\n",
    "The majority of users fall into the Frequent Customer category, indicating a consistent pattern of regular purchases within a short timeframe (≤10 days).\n",
    "Regular Customers make up nearly a quarter of the user base, suggesting a significant segment with a moderate ordering frequency (11–20 days).\n",
    "Non-Frequent Customers constitute a very small proportion of users, reflecting either casual or sporadic engagement with the platform (median days >20).\n",
    "Implications:\n",
    "\n",
    "The segmentation of customers based on order frequency can aid in targeted marketing campaigns:\n",
    "Frequent Customers: Reward programs or loyalty incentives to retain high activity.\n",
    "Regular Customers: Encouragement to increase order frequency, possibly via discounts or promotions.\n",
    "Non-Frequent Customers: Strategies to re-engage these users, such as personalized offers or reminders."
   ]
  },
  {
   "cell_type": "markdown",
   "id": "35b3a895-fc26-4e31-a32f-9b50f454220e",
   "metadata": {},
   "source": [
    "# Step 9: Export the Final Dataframe"
   ]
  },
  {
   "cell_type": "code",
   "execution_count": 56,
   "id": "d478b102-2ba1-479c-9569-a3d279ae398f",
   "metadata": {},
   "outputs": [
    {
     "name": "stdout",
     "output_type": "stream",
     "text": [
      "   order_id  user_id  order_number  order_day_of_week  order_hour_of_day  \\\n",
      "0   2539329        1             1                  2                  8   \n",
      "1   2539329        1             1                  2                  8   \n",
      "2   2539329        1             1                  2                  8   \n",
      "3   2539329        1             1                  2                  8   \n",
      "4   2539329        1             1                  2                  8   \n",
      "\n",
      "   days_since_prior_order product_id  add_to_cart_order  reordered  \\\n",
      "0                     NaN        196                  1          0   \n",
      "1                     NaN      14084                  2          0   \n",
      "2                     NaN      12427                  3          0   \n",
      "3                     NaN      26088                  4          0   \n",
      "4                     NaN      26405                  5          0   \n",
      "\n",
      "                              product_name  aisle_id  department_id  prices  \\\n",
      "0                                     Soda        77              7     9.0   \n",
      "1  Organic Unsweetened Vanilla Almond Milk        91             16    12.5   \n",
      "2                      Original Beef Jerky        23             19     4.4   \n",
      "3               Aged White Cheddar Popcorn        23             19     4.7   \n",
      "4         XL Pick-A-Size Paper Towel Rolls        54             17     1.0   \n",
      "\n",
      "   max_order  loyalty_flag  avg_spending spending_flag  \\\n",
      "0         10  New customer      6.367797   Low spender   \n",
      "1         10  New customer      6.367797   Low spender   \n",
      "2         10  New customer      6.367797   Low spender   \n",
      "3         10  New customer      6.367797   Low spender   \n",
      "4         10  New customer      6.367797   Low spender   \n",
      "\n",
      "   median_days_since_order         frequency_flag  \n",
      "0                     20.5  Non-frequent customer  \n",
      "1                     20.5  Non-frequent customer  \n",
      "2                     20.5  Non-frequent customer  \n",
      "3                     20.5  Non-frequent customer  \n",
      "4                     20.5  Non-frequent customer  \n"
     ]
    }
   ],
   "source": [
    "# Define the export path\n",
    "export_path = '/Users/dela/Documents/15-01-2025 Instacart Basket Analysis/02 Data/Prepared Data/ords_prods_merge_final.pkl'\n",
    "\n",
    "# Export the dataframe as a pickle file\n",
    "ords_prods_merge.to_pickle(export_path)\n",
    "\n",
    "# Confirm the export by re-importing and checking the first few rows\n",
    "test_import = pd.read_pickle(export_path)\n",
    "print(test_import.head())\n",
    "\n"
   ]
  },
  {
   "cell_type": "code",
   "execution_count": null,
   "id": "8800d808-5c1a-4bff-81a9-33d87d0bfe0d",
   "metadata": {},
   "outputs": [],
   "source": []
  }
 ],
 "metadata": {
  "kernelspec": {
   "display_name": "Python [conda env:base] *",
   "language": "python",
   "name": "conda-base-py"
  },
  "language_info": {
   "codemirror_mode": {
    "name": "ipython",
    "version": 3
   },
   "file_extension": ".py",
   "mimetype": "text/x-python",
   "name": "python",
   "nbconvert_exporter": "python",
   "pygments_lexer": "ipython3",
   "version": "3.12.7"
  }
 },
 "nbformat": 4,
 "nbformat_minor": 5
}
