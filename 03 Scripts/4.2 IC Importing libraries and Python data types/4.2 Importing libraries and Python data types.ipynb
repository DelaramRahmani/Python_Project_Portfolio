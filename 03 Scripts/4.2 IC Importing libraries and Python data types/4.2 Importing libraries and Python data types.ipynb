{
 "cells": [
  {
   "cell_type": "markdown",
   "id": "ec2687eb-765a-4613-83df-092d9e9148c2",
   "metadata": {},
   "source": [
    "# 01.Importing libraries"
   ]
  },
  {
   "cell_type": "code",
   "execution_count": 1,
   "id": "139ba6f3-e1d1-40ba-9a21-b70f5cb1ccf9",
   "metadata": {},
   "outputs": [],
   "source": [
    "# Import libraries\n",
    "import pandas as pd\n",
    "import numpy as np\n",
    "import os"
   ]
  },
  {
   "cell_type": "markdown",
   "id": "24e09243-7d73-4513-987e-adc51ea6b84f",
   "metadata": {},
   "source": [
    "# 02. Working with Python Data Types"
   ]
  },
  {
   "cell_type": "code",
   "execution_count": 53,
   "id": "8085eda3-e333-4c1c-8c37-01721870a08a",
   "metadata": {},
   "outputs": [],
   "source": [
    "result1 = 50 + 50"
   ]
  },
  {
   "cell_type": "code",
   "execution_count": 55,
   "id": "6cfd7226-4816-4e8a-86f5-975de51961d4",
   "metadata": {},
   "outputs": [
    {
     "name": "stdout",
     "output_type": "stream",
     "text": [
      "100\n"
     ]
    }
   ],
   "source": [
    "print(result1)"
   ]
  },
  {
   "cell_type": "code",
   "execution_count": 57,
   "id": "0dc8f6de-d188-4a86-bf2c-3bec5e9d800b",
   "metadata": {},
   "outputs": [],
   "source": [
    "result2 = 200 - 100"
   ]
  },
  {
   "cell_type": "code",
   "execution_count": 59,
   "id": "f16ace98-376b-4cfa-a0db-fa971f3adae2",
   "metadata": {},
   "outputs": [
    {
     "name": "stdout",
     "output_type": "stream",
     "text": [
      "100\n"
     ]
    }
   ],
   "source": [
    "print(result2)"
   ]
  },
  {
   "cell_type": "code",
   "execution_count": 61,
   "id": "a63baa97-5aa9-421b-b105-c0f4964121b1",
   "metadata": {},
   "outputs": [],
   "source": [
    "result3 = 80 + 20"
   ]
  },
  {
   "cell_type": "code",
   "execution_count": 63,
   "id": "5a347b9c-5508-4331-a435-89955752c8b7",
   "metadata": {},
   "outputs": [
    {
     "name": "stdout",
     "output_type": "stream",
     "text": [
      "100\n"
     ]
    }
   ],
   "source": [
    "print(result3)"
   ]
  },
  {
   "cell_type": "markdown",
   "id": "e1366ab1-c646-4107-b2d5-89ff9a30db0d",
   "metadata": {},
   "source": [
    "# Floating-point division"
   ]
  },
  {
   "cell_type": "code",
   "execution_count": 65,
   "id": "a565bb68-fabd-4bc0-871d-c3c2d22f4e33",
   "metadata": {},
   "outputs": [],
   "source": [
    "float1 = 45.5"
   ]
  },
  {
   "cell_type": "code",
   "execution_count": 67,
   "id": "15c1dd72-1365-4093-bb15-0c040bdd8051",
   "metadata": {},
   "outputs": [],
   "source": [
    "float2 = 5.0"
   ]
  },
  {
   "cell_type": "code",
   "execution_count": 73,
   "id": "1caefe02-e2b7-46cd-b1bf-d127830309c6",
   "metadata": {},
   "outputs": [],
   "source": [
    "result = float1/float2"
   ]
  },
  {
   "cell_type": "code",
   "execution_count": 75,
   "id": "13e6fa8f-1c14-4232-86f3-89fd68b39891",
   "metadata": {},
   "outputs": [
    {
     "name": "stdout",
     "output_type": "stream",
     "text": [
      "9.1\n"
     ]
    }
   ],
   "source": [
    "print(result)"
   ]
  },
  {
   "cell_type": "markdown",
   "id": "1b969c0c-99dc-46b9-a364-e6bca42991f5",
   "metadata": {},
   "source": [
    "# Concatenating strings"
   ]
  },
  {
   "cell_type": "code",
   "execution_count": 77,
   "id": "2f4e9a68-7a17-417c-bc37-77c6c51bec38",
   "metadata": {},
   "outputs": [],
   "source": [
    "part1 = 'Py'"
   ]
  },
  {
   "cell_type": "code",
   "execution_count": 79,
   "id": "fd878752-76ab-4187-974c-fc1291097dc3",
   "metadata": {},
   "outputs": [],
   "source": [
    "part2 = 'thon'"
   ]
  },
  {
   "cell_type": "code",
   "execution_count": 81,
   "id": "24d32a39-b932-4ab0-b730-1091cac74863",
   "metadata": {},
   "outputs": [],
   "source": [
    "word = part1 + part2"
   ]
  },
  {
   "cell_type": "code",
   "execution_count": 83,
   "id": "9a3e596a-1361-4ecd-8ee2-ca023154ba9a",
   "metadata": {},
   "outputs": [
    {
     "name": "stdout",
     "output_type": "stream",
     "text": [
      "Python\n"
     ]
    }
   ],
   "source": [
    "print(word)"
   ]
  },
  {
   "cell_type": "markdown",
   "id": "fcd72079-4332-4628-8038-15223d1bfa77",
   "metadata": {},
   "source": [
    "# Sentence 1"
   ]
  },
  {
   "cell_type": "code",
   "execution_count": 85,
   "id": "1d70e54a-d267-42ff-b06d-0855b1735998",
   "metadata": {},
   "outputs": [],
   "source": [
    "subject = 'I'"
   ]
  },
  {
   "cell_type": "code",
   "execution_count": 87,
   "id": "034a7d59-ec5e-4ffb-b158-d5d4dea7cd71",
   "metadata": {},
   "outputs": [],
   "source": [
    "verb = 'am learning'"
   ]
  },
  {
   "cell_type": "code",
   "execution_count": 89,
   "id": "9716977b-8c7a-45e0-ba0e-583176126e01",
   "metadata": {},
   "outputs": [],
   "source": [
    "object_ = 'Python.'"
   ]
  },
  {
   "cell_type": "code",
   "execution_count": 91,
   "id": "ca19cacc-91e9-4373-99d9-4a8e023d45a3",
   "metadata": {},
   "outputs": [],
   "source": [
    "sentence1 = subject + ' ' + verb + ' ' + object_"
   ]
  },
  {
   "cell_type": "code",
   "execution_count": 93,
   "id": "8ee18738-830a-4b57-85fc-d3651419b3f6",
   "metadata": {},
   "outputs": [
    {
     "name": "stdout",
     "output_type": "stream",
     "text": [
      "I am learning Python.\n"
     ]
    }
   ],
   "source": [
    "print(sentence1)"
   ]
  },
  {
   "cell_type": "markdown",
   "id": "8e6c44f2-37aa-41e6-a542-c37089965383",
   "metadata": {},
   "source": [
    "# Sentence 2"
   ]
  },
  {
   "cell_type": "code",
   "execution_count": 95,
   "id": "c5227531-45e4-480a-a002-1659420ce5ff",
   "metadata": {},
   "outputs": [],
   "source": [
    "greeting = 'Hello'"
   ]
  },
  {
   "cell_type": "code",
   "execution_count": 97,
   "id": "08627a9e-7825-4fcf-82d1-02451a6b36e2",
   "metadata": {},
   "outputs": [],
   "source": [
    "name = 'World'"
   ]
  },
  {
   "cell_type": "code",
   "execution_count": 99,
   "id": "209c085c-fb05-4ee4-b27e-49f99ccaf56d",
   "metadata": {},
   "outputs": [],
   "source": [
    "punctuation = '!'"
   ]
  },
  {
   "cell_type": "code",
   "execution_count": 101,
   "id": "313699be-83b2-48aa-90c4-2eb10a22f92d",
   "metadata": {},
   "outputs": [],
   "source": [
    "sentence2 = greeting + ', ' + name + punctuation"
   ]
  },
  {
   "cell_type": "code",
   "execution_count": 103,
   "id": "7f4f04e7-f7cc-4112-8528-b9c410a6430b",
   "metadata": {},
   "outputs": [
    {
     "name": "stdout",
     "output_type": "stream",
     "text": [
      "Hello, World!\n"
     ]
    }
   ],
   "source": [
    "print(sentence2)"
   ]
  }
 ],
 "metadata": {
  "kernelspec": {
   "display_name": "Python [conda env:base] *",
   "language": "python",
   "name": "conda-base-py"
  },
  "language_info": {
   "codemirror_mode": {
    "name": "ipython",
    "version": 3
   },
   "file_extension": ".py",
   "mimetype": "text/x-python",
   "name": "python",
   "nbconvert_exporter": "python",
   "pygments_lexer": "ipython3",
   "version": "3.12.7"
  }
 },
 "nbformat": 4,
 "nbformat_minor": 5
}
